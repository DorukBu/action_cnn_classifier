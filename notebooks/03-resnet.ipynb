{
  "cells": [
    {
      "cell_type": "markdown",
      "metadata": {
        "id": "Gk5CcqOGdbGJ"
      },
      "source": [
        "# Human Action Classification (ResNet)"
      ]
    },
    {
      "cell_type": "markdown",
      "metadata": {
        "id": "mt9dL5dIir8X"
      },
      "source": [
        "##### Copyright & Acknowledgement"
      ]
    },
    {
      "cell_type": "code",
      "execution_count": 1,
      "metadata": {
        "cellView": "form",
        "id": "ufPx7EiCiqgR"
      },
      "outputs": [],
      "source": [
        "# Licensed under the Apache License, Version 2.0 (the \"License\");\n",
        "# you may not use this file except in compliance with the License.\n",
        "# You may obtain a copy of the License at\n",
        "#\n",
        "# https://www.apache.org/licenses/LICENSE-2.0\n",
        "#\n",
        "# Unless required by applicable law or agreed to in writing, software\n",
        "# distributed under the License is distributed on an \"AS IS\" BASIS,\n",
        "# WITHOUT WARRANTIES OR CONDITIONS OF ANY KIND, either express or implied.\n",
        "# See the License for the specific language governing permissions and\n",
        "# limitations under the License.\n"
      ]
    },
    {
      "cell_type": "markdown",
      "metadata": {
        "id": "JlckCV4yn2F_"
      },
      "source": [
        "Notice: This notebook includes code authored by the creators of TensorFlow, as featured in TensorFlow Tutorials. The notebook also includes content taken from UCF101 web page.\n",
        "<table class=\"tfo-notebook-buttons\" align=\"left\">\n",
        "  <td>\n",
        "    <a target=\"_blank\" href=\"https://www.tensorflow.org/tutorials\"><img src=\"https://www.tensorflow.org/images/tf_logo_32px.png\" />TensorFlow Tutorials</a>\n",
        "  </td>\n",
        "  <td>\n",
        "    <a target=\"_blank\" href=\"https://www.crcv.ucf.edu/research/data-sets/ucf101/\"><img src=\"https://diversityjobs.com/attachments/employer/1/611/152/972.gif\" />UCF101</a>\n",
        "  </td>\n",
        "</table>"
      ]
    },
    {
      "cell_type": "markdown",
      "metadata": {
        "id": "4StGz9ynOEL6"
      },
      "source": [
        "## Introduction"
      ]
    },
    {
      "cell_type": "markdown",
      "metadata": {
        "id": "F-SqCosJ6-0H"
      },
      "source": [
        "This notebook illustrates the process of loading and preparing [AVI](https://en.wikipedia.org/wiki/Audio_Video_Interleave) video data from the [UCF101 human action dataset](https://www.tensorflow.org/datasets/catalog/ucf101). After the data preprocessing phase, it becomes applicable for various tasks such as video classification/recognition, captioning, or clustering. The dataset comprises authentic action videos sourced from YouTube, encompassing 101 categories like playing the cello, brushing teeth, and applying eye makeup.\n",
        "\n",
        "* Load the data from a zip file.\n",
        "\n",
        "* Read sequences of frames out of the video files.\n",
        "\n",
        "* Visualize the video data.\n",
        "\n",
        "* Wrap the frame-generator [`tf.data.Dataset`](https://www.tensorflow.org/guide/data).\n",
        "* Train and save a CNN model\n",
        "* Load the model and conduct inference"
      ]
    },
    {
      "cell_type": "markdown",
      "metadata": {
        "id": "Tps5MTYpuWz_"
      },
      "source": [
        "## The Dataset"
      ]
    },
    {
      "cell_type": "markdown",
      "metadata": {
        "id": "bE2xNi97uZyn"
      },
      "source": [
        "### Overview\n",
        "\n",
        "UCF101 is an action recognition data set of realistic action videos, collected from YouTube, having 101 action categories. This data set is an extension of UCF50 data set which has 50 action categories.\n",
        "\n",
        "With 13320 videos from 101 action categories, UCF101 gives the largest diversity in terms of actions and with the presence of large variations in camera motion, object appearance and pose, object scale, viewpoint, cluttered background, illumination conditions, etc, it is the most challenging data set to date. As most of the available action recognition data sets are not realistic and are staged by actors, UCF101 aims to encourage further research into action recognition by learning and exploring new realistic action categories.\n",
        "\n",
        "Data Set Details\n",
        "\n",
        "The videos in 101 action categories are grouped into 25 groups, where each group can consist of 4-7 videos of an action. The videos from the same group may share some common features, such as similar background, similar viewpoint, etc.\n",
        "\n",
        "The action categories can be divided into five types:\n",
        "\n",
        "    Human-Object Interaction\n",
        "    Body-Motion Only\n",
        "    Human-Human Interaction\n",
        "    Playing Musical Instruments\n",
        "    Sports\n",
        "\n",
        "![sample frames](https://www.crcv.ucf.edu/wp-content/uploads/2019/03/UCF101.jpg)"
      ]
    },
    {
      "cell_type": "markdown",
      "metadata": {
        "id": "PnpPjKVD68eH"
      },
      "source": [
        "## Setup\n",
        "\n",
        "We begin by installing and importing some necessary libraries, including:\n",
        "[remotezip](https://github.com/gtsystem/python-remotezip) to inspect the contents of a ZIP file, [tqdm](https://github.com/tqdm/tqdm) to use a progress bar, [OpenCV](https://opencv.org/) to process video files, and [`tensorflow_docs`](https://github.com/tensorflow/docs/tree/master/tools/tensorflow_docs) for embedding data in a Jupyter notebook."
      ]
    },
    {
      "cell_type": "code",
      "execution_count": 2,
      "metadata": {
        "colab": {
          "base_uri": "https://localhost:8080/"
        },
        "id": "SjI3AaaO16bd",
        "outputId": "4ad4c7e1-6a39-40ca-d7e4-6c9cef061c9d"
      },
      "outputs": [
        {
          "name": "stdout",
          "output_type": "stream",
          "text": [
            "Requirement already satisfied: tensorflow>=2.10.0 in /usr/local/lib/python3.10/dist-packages (2.15.0)\n",
            "Collecting tensorflow>=2.10.0\n",
            "  Downloading tensorflow-2.15.0.post1-cp310-cp310-manylinux_2_17_x86_64.manylinux2014_x86_64.whl (475.2 MB)\n",
            "\u001b[2K     \u001b[90m━━━━━━━━━━━━━━━━━━━━━━━━━━━━━━━━━━━━━━━━\u001b[0m \u001b[32m475.2/475.2 MB\u001b[0m \u001b[31m2.1 MB/s\u001b[0m eta \u001b[36m0:00:00\u001b[0m\n",
            "\u001b[?25hRequirement already satisfied: absl-py>=1.0.0 in /usr/local/lib/python3.10/dist-packages (from tensorflow>=2.10.0) (1.4.0)\n",
            "Requirement already satisfied: astunparse>=1.6.0 in /usr/local/lib/python3.10/dist-packages (from tensorflow>=2.10.0) (1.6.3)\n",
            "Requirement already satisfied: flatbuffers>=23.5.26 in /usr/local/lib/python3.10/dist-packages (from tensorflow>=2.10.0) (23.5.26)\n",
            "Requirement already satisfied: gast!=0.5.0,!=0.5.1,!=0.5.2,>=0.2.1 in /usr/local/lib/python3.10/dist-packages (from tensorflow>=2.10.0) (0.5.4)\n",
            "Requirement already satisfied: google-pasta>=0.1.1 in /usr/local/lib/python3.10/dist-packages (from tensorflow>=2.10.0) (0.2.0)\n",
            "Requirement already satisfied: h5py>=2.9.0 in /usr/local/lib/python3.10/dist-packages (from tensorflow>=2.10.0) (3.9.0)\n",
            "Requirement already satisfied: libclang>=13.0.0 in /usr/local/lib/python3.10/dist-packages (from tensorflow>=2.10.0) (16.0.6)\n",
            "Requirement already satisfied: ml-dtypes~=0.2.0 in /usr/local/lib/python3.10/dist-packages (from tensorflow>=2.10.0) (0.2.0)\n",
            "Requirement already satisfied: numpy<2.0.0,>=1.23.5 in /usr/local/lib/python3.10/dist-packages (from tensorflow>=2.10.0) (1.23.5)\n",
            "Requirement already satisfied: opt-einsum>=2.3.2 in /usr/local/lib/python3.10/dist-packages (from tensorflow>=2.10.0) (3.3.0)\n",
            "Requirement already satisfied: packaging in /usr/local/lib/python3.10/dist-packages (from tensorflow>=2.10.0) (23.2)\n",
            "Requirement already satisfied: protobuf!=4.21.0,!=4.21.1,!=4.21.2,!=4.21.3,!=4.21.4,!=4.21.5,<5.0.0dev,>=3.20.3 in /usr/local/lib/python3.10/dist-packages (from tensorflow>=2.10.0) (3.20.3)\n",
            "Requirement already satisfied: setuptools in /usr/local/lib/python3.10/dist-packages (from tensorflow>=2.10.0) (67.7.2)\n",
            "Requirement already satisfied: six>=1.12.0 in /usr/local/lib/python3.10/dist-packages (from tensorflow>=2.10.0) (1.16.0)\n",
            "Requirement already satisfied: termcolor>=1.1.0 in /usr/local/lib/python3.10/dist-packages (from tensorflow>=2.10.0) (2.4.0)\n",
            "Requirement already satisfied: typing-extensions>=3.6.6 in /usr/local/lib/python3.10/dist-packages (from tensorflow>=2.10.0) (4.5.0)\n",
            "Requirement already satisfied: wrapt<1.15,>=1.11.0 in /usr/local/lib/python3.10/dist-packages (from tensorflow>=2.10.0) (1.14.1)\n",
            "Requirement already satisfied: tensorflow-io-gcs-filesystem>=0.23.1 in /usr/local/lib/python3.10/dist-packages (from tensorflow>=2.10.0) (0.35.0)\n",
            "Requirement already satisfied: grpcio<2.0,>=1.24.3 in /usr/local/lib/python3.10/dist-packages (from tensorflow>=2.10.0) (1.60.0)\n",
            "Requirement already satisfied: tensorboard<2.16,>=2.15 in /usr/local/lib/python3.10/dist-packages (from tensorflow>=2.10.0) (2.15.1)\n",
            "Requirement already satisfied: tensorflow-estimator<2.16,>=2.15.0 in /usr/local/lib/python3.10/dist-packages (from tensorflow>=2.10.0) (2.15.0)\n",
            "Requirement already satisfied: keras<2.16,>=2.15.0 in /usr/local/lib/python3.10/dist-packages (from tensorflow>=2.10.0) (2.15.0)\n",
            "Requirement already satisfied: wheel<1.0,>=0.23.0 in /usr/local/lib/python3.10/dist-packages (from astunparse>=1.6.0->tensorflow>=2.10.0) (0.42.0)\n",
            "Requirement already satisfied: google-auth<3,>=1.6.3 in /usr/local/lib/python3.10/dist-packages (from tensorboard<2.16,>=2.15->tensorflow>=2.10.0) (2.17.3)\n",
            "Requirement already satisfied: google-auth-oauthlib<2,>=0.5 in /usr/local/lib/python3.10/dist-packages (from tensorboard<2.16,>=2.15->tensorflow>=2.10.0) (1.2.0)\n",
            "Requirement already satisfied: markdown>=2.6.8 in /usr/local/lib/python3.10/dist-packages (from tensorboard<2.16,>=2.15->tensorflow>=2.10.0) (3.5.2)\n",
            "Requirement already satisfied: requests<3,>=2.21.0 in /usr/local/lib/python3.10/dist-packages (from tensorboard<2.16,>=2.15->tensorflow>=2.10.0) (2.31.0)\n",
            "Requirement already satisfied: tensorboard-data-server<0.8.0,>=0.7.0 in /usr/local/lib/python3.10/dist-packages (from tensorboard<2.16,>=2.15->tensorflow>=2.10.0) (0.7.2)\n",
            "Requirement already satisfied: werkzeug>=1.0.1 in /usr/local/lib/python3.10/dist-packages (from tensorboard<2.16,>=2.15->tensorflow>=2.10.0) (3.0.1)\n",
            "Requirement already satisfied: cachetools<6.0,>=2.0.0 in /usr/local/lib/python3.10/dist-packages (from google-auth<3,>=1.6.3->tensorboard<2.16,>=2.15->tensorflow>=2.10.0) (5.3.2)\n",
            "Requirement already satisfied: pyasn1-modules>=0.2.1 in /usr/local/lib/python3.10/dist-packages (from google-auth<3,>=1.6.3->tensorboard<2.16,>=2.15->tensorflow>=2.10.0) (0.3.0)\n",
            "Requirement already satisfied: rsa<5,>=3.1.4 in /usr/local/lib/python3.10/dist-packages (from google-auth<3,>=1.6.3->tensorboard<2.16,>=2.15->tensorflow>=2.10.0) (4.9)\n",
            "Requirement already satisfied: requests-oauthlib>=0.7.0 in /usr/local/lib/python3.10/dist-packages (from google-auth-oauthlib<2,>=0.5->tensorboard<2.16,>=2.15->tensorflow>=2.10.0) (1.3.1)\n",
            "Requirement already satisfied: charset-normalizer<4,>=2 in /usr/local/lib/python3.10/dist-packages (from requests<3,>=2.21.0->tensorboard<2.16,>=2.15->tensorflow>=2.10.0) (3.3.2)\n",
            "Requirement already satisfied: idna<4,>=2.5 in /usr/local/lib/python3.10/dist-packages (from requests<3,>=2.21.0->tensorboard<2.16,>=2.15->tensorflow>=2.10.0) (3.6)\n",
            "Requirement already satisfied: urllib3<3,>=1.21.1 in /usr/local/lib/python3.10/dist-packages (from requests<3,>=2.21.0->tensorboard<2.16,>=2.15->tensorflow>=2.10.0) (2.0.7)\n",
            "Requirement already satisfied: certifi>=2017.4.17 in /usr/local/lib/python3.10/dist-packages (from requests<3,>=2.21.0->tensorboard<2.16,>=2.15->tensorflow>=2.10.0) (2023.11.17)\n",
            "Requirement already satisfied: MarkupSafe>=2.1.1 in /usr/local/lib/python3.10/dist-packages (from werkzeug>=1.0.1->tensorboard<2.16,>=2.15->tensorflow>=2.10.0) (2.1.3)\n",
            "Requirement already satisfied: pyasn1<0.6.0,>=0.4.6 in /usr/local/lib/python3.10/dist-packages (from pyasn1-modules>=0.2.1->google-auth<3,>=1.6.3->tensorboard<2.16,>=2.15->tensorflow>=2.10.0) (0.5.1)\n",
            "Requirement already satisfied: oauthlib>=3.0.0 in /usr/local/lib/python3.10/dist-packages (from requests-oauthlib>=0.7.0->google-auth-oauthlib<2,>=0.5->tensorboard<2.16,>=2.15->tensorflow>=2.10.0) (3.2.2)\n",
            "Installing collected packages: tensorflow\n",
            "  Attempting uninstall: tensorflow\n",
            "    Found existing installation: tensorflow 2.15.0\n",
            "    Uninstalling tensorflow-2.15.0:\n",
            "      Successfully uninstalled tensorflow-2.15.0\n",
            "Successfully installed tensorflow-2.15.0.post1\n"
          ]
        }
      ],
      "source": [
        "# The way this tutorial uses the `TimeDistributed` layer requires TF>=2.10\n",
        "!pip install -U \"tensorflow>=2.10.0\""
      ]
    },
    {
      "cell_type": "code",
      "execution_count": 3,
      "metadata": {
        "colab": {
          "base_uri": "https://localhost:8080/"
        },
        "id": "P5SBasQcbwQA",
        "outputId": "8c4aa2f6-d595-45e8-b345-33d181588eef"
      },
      "outputs": [
        {
          "name": "stdout",
          "output_type": "stream",
          "text": [
            "Collecting remotezip\n",
            "  Downloading remotezip-0.12.2.tar.gz (7.6 kB)\n",
            "  Preparing metadata (setup.py) ... \u001b[?25l\u001b[?25hdone\n",
            "Requirement already satisfied: tqdm in /usr/local/lib/python3.10/dist-packages (4.66.1)\n",
            "Requirement already satisfied: opencv-python in /usr/local/lib/python3.10/dist-packages (4.8.0.76)\n",
            "Requirement already satisfied: requests in /usr/local/lib/python3.10/dist-packages (from remotezip) (2.31.0)\n",
            "Requirement already satisfied: tabulate in /usr/local/lib/python3.10/dist-packages (from remotezip) (0.9.0)\n",
            "Requirement already satisfied: numpy>=1.21.2 in /usr/local/lib/python3.10/dist-packages (from opencv-python) (1.23.5)\n",
            "Requirement already satisfied: charset-normalizer<4,>=2 in /usr/local/lib/python3.10/dist-packages (from requests->remotezip) (3.3.2)\n",
            "Requirement already satisfied: idna<4,>=2.5 in /usr/local/lib/python3.10/dist-packages (from requests->remotezip) (3.6)\n",
            "Requirement already satisfied: urllib3<3,>=1.21.1 in /usr/local/lib/python3.10/dist-packages (from requests->remotezip) (2.0.7)\n",
            "Requirement already satisfied: certifi>=2017.4.17 in /usr/local/lib/python3.10/dist-packages (from requests->remotezip) (2023.11.17)\n",
            "Building wheels for collected packages: remotezip\n",
            "  Building wheel for remotezip (setup.py) ... \u001b[?25l\u001b[?25hdone\n",
            "  Created wheel for remotezip: filename=remotezip-0.12.2-py3-none-any.whl size=7890 sha256=b4784bffc8c5fea2a59a0ed94c7784f1693661310ef76491486a7698a036bc43\n",
            "  Stored in directory: /root/.cache/pip/wheels/f2/71/f9/c650cc34039d772da8b040ed447b6b5f5de9abc38d88073fa1\n",
            "Successfully built remotezip\n",
            "Installing collected packages: remotezip\n",
            "Successfully installed remotezip-0.12.2\n",
            "  Preparing metadata (setup.py) ... \u001b[?25l\u001b[?25hdone\n",
            "  Building wheel for tensorflow-docs (setup.py) ... \u001b[?25l\u001b[?25hdone\n"
          ]
        }
      ],
      "source": [
        "!pip install remotezip tqdm opencv-python\n",
        "!pip install -q git+https://github.com/tensorflow/docs"
      ]
    },
    {
      "cell_type": "code",
      "execution_count": 4,
      "metadata": {
        "id": "9RYQIJ9C6BVH"
      },
      "outputs": [],
      "source": [
        "import tqdm\n",
        "import random\n",
        "import pathlib\n",
        "import itertools\n",
        "import collections\n",
        "\n",
        "import os\n",
        "import cv2\n",
        "import numpy as np\n",
        "import remotezip as rz\n",
        "\n",
        "import tensorflow as tf\n",
        "\n",
        "# Some modules to display an animation using imageio.\n",
        "import imageio\n",
        "from IPython import display\n",
        "from urllib import request\n",
        "from tensorflow_docs.vis import embed"
      ]
    },
    {
      "cell_type": "markdown",
      "metadata": {
        "id": "KbhwWLLM7FXo"
      },
      "source": [
        "## Download a subset of the UCF101 dataset\n",
        "\n",
        "The [UCF101 dataset](https://www.tensorflow.org/datasets/catalog/ucf101) contains 101 categories of different actions in video, primarily used in action recognition. We will use a subset of these categories in this demo."
      ]
    },
    {
      "cell_type": "code",
      "execution_count": 5,
      "metadata": {
        "id": "gVIgj-jIA8U8"
      },
      "outputs": [],
      "source": [
        "URL = 'https://storage.googleapis.com/thumos14_files/UCF101_videos.zip'"
      ]
    },
    {
      "cell_type": "markdown",
      "metadata": {
        "id": "2tm8aBzw6Md7"
      },
      "source": [
        "We create a function that uses the `remotezip` library to examine the contents of the zip file in that URL:"
      ]
    },
    {
      "cell_type": "code",
      "execution_count": 6,
      "metadata": {
        "id": "lY-x7TaZlK6O"
      },
      "outputs": [],
      "source": [
        "def list_files_from_zip_url(zip_url):\n",
        "  \"\"\" List the files in each class of the dataset given a URL with the zip file.\n",
        "\n",
        "    Args:\n",
        "      zip_url: A URL from which the files can be extracted from.\n",
        "\n",
        "    Returns:\n",
        "      List of files in each of the classes.\n",
        "  \"\"\"\n",
        "  files = []\n",
        "  with rz.RemoteZip(zip_url) as zip:\n",
        "    for zip_info in zip.infolist():\n",
        "      files.append(zip_info.filename)\n",
        "  return files"
      ]
    },
    {
      "cell_type": "code",
      "execution_count": 7,
      "metadata": {
        "colab": {
          "base_uri": "https://localhost:8080/"
        },
        "id": "lYErXAdUr-rk",
        "outputId": "ab42c2b8-dbbd-47f3-849e-11dc8d78a522"
      },
      "outputs": [
        {
          "data": {
            "text/plain": [
              "['UCF101/v_ApplyEyeMakeup_g01_c01.avi',\n",
              " 'UCF101/v_ApplyEyeMakeup_g01_c02.avi',\n",
              " 'UCF101/v_ApplyEyeMakeup_g01_c03.avi',\n",
              " 'UCF101/v_ApplyEyeMakeup_g01_c04.avi',\n",
              " 'UCF101/v_ApplyEyeMakeup_g01_c05.avi',\n",
              " 'UCF101/v_ApplyEyeMakeup_g01_c06.avi',\n",
              " 'UCF101/v_ApplyEyeMakeup_g02_c01.avi',\n",
              " 'UCF101/v_ApplyEyeMakeup_g02_c02.avi',\n",
              " 'UCF101/v_ApplyEyeMakeup_g02_c03.avi',\n",
              " 'UCF101/v_ApplyEyeMakeup_g02_c04.avi']"
            ]
          },
          "execution_count": 7,
          "metadata": {},
          "output_type": "execute_result"
        }
      ],
      "source": [
        "files = list_files_from_zip_url(URL)\n",
        "files = [f for f in files if f.endswith('.avi')]\n",
        "files[:10]"
      ]
    },
    {
      "cell_type": "markdown",
      "metadata": {
        "id": "rQ4l8D9dFPS7"
      },
      "source": [
        "We begin with a few videos and a limited number of classes for training. After running the above code block, notice that the class name is included in the filename of each video.\n",
        "\n",
        "We define the `get_class` function that retrieves the class name from a filename. Then, we create a function called `get_files_per_class` which converts the list of all files (`files` above) into a dictionary listing the files for each class:"
      ]
    },
    {
      "cell_type": "code",
      "execution_count": 8,
      "metadata": {
        "id": "yyyivOX0sO19"
      },
      "outputs": [],
      "source": [
        "def get_class(fname):\n",
        "  \"\"\" Retrieve the name of the class given a filename.\n",
        "\n",
        "    Args:\n",
        "      fname: Name of the file in the UCF101 dataset.\n",
        "\n",
        "    Returns:\n",
        "      Class that the file belongs to.\n",
        "  \"\"\"\n",
        "  return fname.split('_')[-3]"
      ]
    },
    {
      "cell_type": "code",
      "execution_count": 9,
      "metadata": {
        "id": "1qnH0xKzlyw_"
      },
      "outputs": [],
      "source": [
        "def get_files_per_class(files):\n",
        "  \"\"\" Retrieve the files that belong to each class.\n",
        "\n",
        "    Args:\n",
        "      files: List of files in the dataset.\n",
        "\n",
        "    Returns:\n",
        "      Dictionary of class names (key) and files (values).\n",
        "  \"\"\"\n",
        "  files_for_class = collections.defaultdict(list)\n",
        "  for fname in files:\n",
        "    class_name = get_class(fname)\n",
        "    files_for_class[class_name].append(fname)\n",
        "  return files_for_class"
      ]
    },
    {
      "cell_type": "markdown",
      "metadata": {
        "id": "VxSt5YgSGrWn"
      },
      "source": [
        "Once we have the list of files per class, we can choose how many classes we would like to use and how many videos we would like per class in order to create our dataset."
      ]
    },
    {
      "cell_type": "code",
      "execution_count": 10,
      "metadata": {
        "id": "qPdURg74uUTk"
      },
      "outputs": [],
      "source": [
        "SELECTED_CLASSES = ['ApplyEyeMakeup', 'ApplyLipstick', 'Basketball', 'Biking', 'Billiards', 'Hammering', 'HorseRiding', 'JugglingBalls', 'PlayingGuitar', 'Typing']\n",
        "NUM_CLASSES = len(SELECTED_CLASSES)\n",
        "FILES_PER_CLASS = 50"
      ]
    },
    {
      "cell_type": "code",
      "execution_count": 11,
      "metadata": {
        "id": "GUs0xtXsr9i3"
      },
      "outputs": [],
      "source": [
        "files_for_class = get_files_per_class(files)\n",
        "classes = list(files_for_class.keys())"
      ]
    },
    {
      "cell_type": "code",
      "execution_count": 12,
      "metadata": {
        "colab": {
          "base_uri": "https://localhost:8080/"
        },
        "id": "-YqFARvqwon9",
        "outputId": "8aa1024c-5de6-47b2-9bb0-9b964b47af52"
      },
      "outputs": [
        {
          "name": "stdout",
          "output_type": "stream",
          "text": [
            "Num classes: 101\n",
            "Num videos for class[0]: 145\n"
          ]
        }
      ],
      "source": [
        "print('Num classes:', len(classes))\n",
        "print('Num videos for class[0]:', len(files_for_class[classes[0]]))"
      ]
    },
    {
      "cell_type": "markdown",
      "metadata": {
        "id": "yFAFqKqE92bQ"
      },
      "source": [
        "This new function called `select_subset_of_classes` selects a subset of the classes present within the dataset and a particular number of files per class:"
      ]
    },
    {
      "cell_type": "code",
      "execution_count": 13,
      "metadata": {
        "id": "O3jek4QimIj-"
      },
      "outputs": [],
      "source": [
        "def select_subset_of_classes(files_for_class, classes, files_per_class):\n",
        "  \"\"\" Create a dictionary with the class name and a subset of the files in that class.\n",
        "\n",
        "    Args:\n",
        "      files_for_class: Dictionary of class names (key) and files (values).\n",
        "      classes: List of classes.\n",
        "      files_per_class: Number of files per class of interest.\n",
        "\n",
        "    Returns:\n",
        "      Dictionary with class as key and list of specified number of video files in that class.\n",
        "  \"\"\"\n",
        "  files_subset = dict()\n",
        "\n",
        "  for class_name in classes:\n",
        "    class_files = files_for_class[class_name]\n",
        "    files_subset[class_name] = class_files[:files_per_class]\n",
        "\n",
        "  return files_subset"
      ]
    },
    {
      "cell_type": "code",
      "execution_count": 14,
      "metadata": {
        "colab": {
          "base_uri": "https://localhost:8080/"
        },
        "id": "5cjcz6Gpcb-W",
        "outputId": "6930583a-7d99-49d9-ab1a-26d23c76d65d"
      },
      "outputs": [
        {
          "data": {
            "text/plain": [
              "['ApplyEyeMakeup',\n",
              " 'ApplyLipstick',\n",
              " 'Basketball',\n",
              " 'Biking',\n",
              " 'Billiards',\n",
              " 'Hammering',\n",
              " 'HorseRiding',\n",
              " 'JugglingBalls',\n",
              " 'PlayingGuitar',\n",
              " 'Typing']"
            ]
          },
          "execution_count": 14,
          "metadata": {},
          "output_type": "execute_result"
        }
      ],
      "source": [
        "files_subset = select_subset_of_classes(files_for_class, SELECTED_CLASSES, FILES_PER_CLASS)\n",
        "list(files_subset.keys())"
      ]
    },
    {
      "cell_type": "markdown",
      "metadata": {
        "id": "ALrlDS1lZx3E"
      },
      "source": [
        "We define helper functions that split the videos into training, validation, and test sets. The videos are downloaded from a URL with the zip file, and placed into their respective subdirectiories."
      ]
    },
    {
      "cell_type": "code",
      "execution_count": 15,
      "metadata": {
        "id": "AH9sWS_6nRz3"
      },
      "outputs": [],
      "source": [
        "def download_from_zip(zip_url, to_dir, file_names):\n",
        "  \"\"\" Download the contents of the zip file from the zip URL.\n",
        "\n",
        "    Args:\n",
        "      zip_url: A URL with a zip file containing data.\n",
        "      to_dir: A directory to download data to.\n",
        "      file_names: Names of files to download.\n",
        "  \"\"\"\n",
        "  with rz.RemoteZip(zip_url) as zip:\n",
        "    for fn in tqdm.tqdm(file_names):\n",
        "      class_name = get_class(fn)\n",
        "      zip.extract(fn, str(to_dir / class_name))\n",
        "      unzipped_file = to_dir / class_name / fn\n",
        "\n",
        "      fn = pathlib.Path(fn).parts[-1]\n",
        "      output_file = to_dir / class_name / fn\n",
        "      unzipped_file.rename(output_file)"
      ]
    },
    {
      "cell_type": "markdown",
      "metadata": {
        "id": "pejRTChA6mrp"
      },
      "source": [
        "The following function returns the remaining data that hasn't already been placed into a subset of data. It allows you to place that remaining data in the next specified subset of data."
      ]
    },
    {
      "cell_type": "code",
      "execution_count": 16,
      "metadata": {
        "id": "6ARYc-WLqqNF"
      },
      "outputs": [],
      "source": [
        "def split_class_lists(files_for_class, count):\n",
        "  \"\"\" Returns the list of files belonging to a subset of data as well as the remainder of\n",
        "    files that need to be downloaded.\n",
        "\n",
        "    Args:\n",
        "      files_for_class: Files belonging to a particular class of data.\n",
        "      count: Number of files to download.\n",
        "\n",
        "    Returns:\n",
        "      Files belonging to the subset of data and dictionary of the remainder of files that need to be downloaded.\n",
        "  \"\"\"\n",
        "  split_files = []\n",
        "  remainder = {}\n",
        "  for cls in files_for_class:\n",
        "    split_files.extend(files_for_class[cls][:count])\n",
        "    remainder[cls] = files_for_class[cls][count:]\n",
        "  return split_files, remainder"
      ]
    },
    {
      "cell_type": "markdown",
      "metadata": {
        "id": "LlEQ_I0TLd1X"
      },
      "source": [
        "The following `download_ucf_101_subset` function allows you to download a subset of the UCF101 dataset and split it into the training, validation, and test sets. You can specify the number of classes that you would like to use. The `splits` argument allows you to pass in a dictionary in which the key values are the name of subset (example: \"train\") and the number of videos you would like to have per class."
      ]
    },
    {
      "cell_type": "code",
      "execution_count": 17,
      "metadata": {
        "colab": {
          "base_uri": "https://localhost:8080/"
        },
        "id": "bN1q4dBofj4Q",
        "outputId": "3b3ed3e0-e310-411e-aa7c-fc41896e9d2a"
      },
      "outputs": [
        {
          "name": "stdout",
          "output_type": "stream",
          "text": [
            "['ApplyEyeMakeup', 'ApplyLipstick', 'Archery', 'BabyCrawling', 'BalanceBeam', 'BandMarching', 'BaseballPitch', 'BasketballDunk', 'Basketball', 'BenchPress']\n"
          ]
        }
      ],
      "source": [
        "print(list(files_for_class.keys())[:10])"
      ]
    },
    {
      "cell_type": "code",
      "execution_count": 18,
      "metadata": {
        "id": "IHH2Y1M06xoz"
      },
      "outputs": [],
      "source": [
        "def download_ucf_101_subset(zip_url, selected_classes, splits, download_dir):\n",
        "  \"\"\" Download a subset of the UCF101 dataset and split them into various parts, such as\n",
        "    training, validation, and test.\n",
        "\n",
        "    Args:\n",
        "      zip_url: A URL with a ZIP file with the data.\n",
        "      selected_classes: Selected classes from dataset.\n",
        "      splits: Dictionary specifying the training, validation, test, etc. (key) division of data\n",
        "              (value is number of files per split).\n",
        "      download_dir: Directory to download data to.\n",
        "\n",
        "    Return:\n",
        "      Mapping of the directories containing the subsections of data.\n",
        "  \"\"\"\n",
        "  files = list_files_from_zip_url(zip_url)\n",
        "  for f in files:\n",
        "    path = os.path.normpath(f)\n",
        "    tokens = path.split(os.sep)\n",
        "    if len(tokens) <= 2:\n",
        "      files.remove(f) # Remove that item from the list if it does not have a filename\n",
        "\n",
        "  files_for_class = get_files_per_class(files)\n",
        "\n",
        "  classes = selected_classes\n",
        "\n",
        "  for cls in classes:\n",
        "    random.shuffle(files_for_class[cls])\n",
        "\n",
        "  # Only use the number of classes you want in the dictionary\n",
        "  files_for_class = {x: files_for_class[x] for x in classes}\n",
        "\n",
        "  dirs = {}\n",
        "  for split_name, split_count in splits.items():\n",
        "    print(split_name, \":\")\n",
        "    split_dir = download_dir / split_name\n",
        "    split_files, files_for_class = split_class_lists(files_for_class, split_count)\n",
        "    download_from_zip(zip_url, split_dir, split_files)\n",
        "    dirs[split_name] = split_dir\n",
        "\n",
        "  return dirs"
      ]
    },
    {
      "cell_type": "code",
      "execution_count": 19,
      "metadata": {
        "colab": {
          "base_uri": "https://localhost:8080/"
        },
        "id": "NuD-xU8Q66Vm",
        "outputId": "c96d33f1-60b4-4966-99cc-48c05fa425f5"
      },
      "outputs": [
        {
          "name": "stdout",
          "output_type": "stream",
          "text": [
            "train :\n"
          ]
        },
        {
          "name": "stderr",
          "output_type": "stream",
          "text": [
            "100%|██████████| 300/300 [01:02<00:00,  4.78it/s]\n"
          ]
        },
        {
          "name": "stdout",
          "output_type": "stream",
          "text": [
            "val :\n"
          ]
        },
        {
          "name": "stderr",
          "output_type": "stream",
          "text": [
            "100%|██████████| 100/100 [00:17<00:00,  5.60it/s]\n"
          ]
        },
        {
          "name": "stdout",
          "output_type": "stream",
          "text": [
            "test :\n"
          ]
        },
        {
          "name": "stderr",
          "output_type": "stream",
          "text": [
            "100%|██████████| 100/100 [00:17<00:00,  5.57it/s]\n"
          ]
        }
      ],
      "source": [
        "download_dir = pathlib.Path('./UCF101_subset/')\n",
        "subset_paths = download_ucf_101_subset(URL,\n",
        "                                       SELECTED_CLASSES,\n",
        "                                       splits = {\"train\": 30, \"val\": 10, \"test\": 10},\n",
        "                                       download_dir = download_dir)"
      ]
    },
    {
      "cell_type": "markdown",
      "metadata": {
        "id": "MBMRm9Ub3Zrk"
      },
      "source": [
        "After downloading the data, we now have a copy of a subset of the UCF101 dataset. Run the following code to print the total number of videos you have amongst all your subsets of data."
      ]
    },
    {
      "cell_type": "code",
      "execution_count": 20,
      "metadata": {
        "colab": {
          "base_uri": "https://localhost:8080/"
        },
        "id": "zupvOLYP4D4q",
        "outputId": "d4fdc0ae-500d-4530-e4de-46fbc1fa76e1"
      },
      "outputs": [
        {
          "name": "stdout",
          "output_type": "stream",
          "text": [
            "Total videos: 500\n"
          ]
        }
      ],
      "source": [
        "video_count_train = len(list(download_dir.glob('train/*/*.avi')))\n",
        "video_count_val = len(list(download_dir.glob('val/*/*.avi')))\n",
        "video_count_test = len(list(download_dir.glob('test/*/*.avi')))\n",
        "video_total = video_count_train + video_count_val + video_count_test\n",
        "print(f\"Total videos: {video_total}\")"
      ]
    },
    {
      "cell_type": "markdown",
      "metadata": {
        "id": "JmJG1SlXiOX8"
      },
      "source": [
        "We can also preview the directory of data files now."
      ]
    },
    {
      "cell_type": "code",
      "execution_count": 21,
      "metadata": {
        "colab": {
          "base_uri": "https://localhost:8080/"
        },
        "id": "y9be0WlDiNM0",
        "outputId": "270d79e8-b647-400b-db72-f10500e30f7c"
      },
      "outputs": [
        {
          "name": "stdout",
          "output_type": "stream",
          "text": [
            "./UCF101_subset\n",
            "./UCF101_subset/test\n",
            "./UCF101_subset/test/Basketball\n",
            "./UCF101_subset/test/Basketball/v_Basketball_g07_c02.avi\n",
            "./UCF101_subset/test/Basketball/v_Basketball_g08_c04.avi\n",
            "./UCF101_subset/test/Basketball/v_Basketball_g19_c05.avi\n",
            "./UCF101_subset/test/Basketball/v_Basketball_g15_c05.avi\n",
            "./UCF101_subset/test/Basketball/UCF101\n",
            "./UCF101_subset/test/Basketball/v_Basketball_g24_c02.avi\n",
            "./UCF101_subset/test/Basketball/v_Basketball_g21_c03.avi\n",
            "./UCF101_subset/test/Basketball/v_Basketball_g19_c07.avi\n",
            "./UCF101_subset/test/Basketball/v_Basketball_g02_c02.avi\n",
            "./UCF101_subset/test/Basketball/v_Basketball_g06_c04.avi\n",
            "./UCF101_subset/test/Basketball/v_Basketball_g01_c03.avi\n",
            "./UCF101_subset/test/PlayingGuitar\n",
            "./UCF101_subset/test/PlayingGuitar/v_PlayingGuitar_g11_c04.avi\n",
            "./UCF101_subset/test/PlayingGuitar/v_PlayingGuitar_g02_c03.avi\n",
            "./UCF101_subset/test/PlayingGuitar/v_PlayingGuitar_g20_c03.avi\n",
            "./UCF101_subset/test/PlayingGuitar/v_PlayingGuitar_g16_c07.avi\n",
            "./UCF101_subset/test/PlayingGuitar/UCF101\n",
            "./UCF101_subset/test/PlayingGuitar/v_PlayingGuitar_g04_c02.avi\n",
            "./UCF101_subset/test/PlayingGuitar/v_PlayingGuitar_g09_c01.avi\n",
            "./UCF101_subset/test/PlayingGuitar/v_PlayingGuitar_g16_c01.avi\n",
            "./UCF101_subset/test/PlayingGuitar/v_PlayingGuitar_g21_c02.avi\n",
            "./UCF101_subset/test/PlayingGuitar/v_PlayingGuitar_g03_c07.avi\n",
            "./UCF101_subset/test/PlayingGuitar/v_PlayingGuitar_g08_c02.avi\n",
            "./UCF101_subset/test/ApplyLipstick\n",
            "./UCF101_subset/test/ApplyLipstick/v_ApplyLipstick_g15_c03.avi\n",
            "./UCF101_subset/test/ApplyLipstick/v_ApplyLipstick_g24_c03.avi\n",
            "./UCF101_subset/test/ApplyLipstick/v_ApplyLipstick_g25_c04.avi\n",
            "./UCF101_subset/test/ApplyLipstick/v_ApplyLipstick_g22_c04.avi\n",
            "./UCF101_subset/test/ApplyLipstick/v_ApplyLipstick_g18_c02.avi\n",
            "./UCF101_subset/test/ApplyLipstick/v_ApplyLipstick_g03_c01.avi\n",
            "./UCF101_subset/test/ApplyLipstick/UCF101\n",
            "./UCF101_subset/test/ApplyLipstick/v_ApplyLipstick_g17_c03.avi\n",
            "./UCF101_subset/test/ApplyLipstick/v_ApplyLipstick_g22_c02.avi\n",
            "./UCF101_subset/test/ApplyLipstick/v_ApplyLipstick_g14_c03.avi\n",
            "./UCF101_subset/test/ApplyLipstick/v_ApplyLipstick_g17_c05.avi\n",
            "./UCF101_subset/test/Hammering\n",
            "./UCF101_subset/test/Hammering/v_Hammering_g04_c05.avi\n",
            "./UCF101_subset/test/Hammering/v_Hammering_g23_c05.avi\n",
            "./UCF101_subset/test/Hammering/UCF101\n",
            "./UCF101_subset/test/Hammering/v_Hammering_g22_c06.avi\n",
            "./UCF101_subset/test/Hammering/v_Hammering_g10_c02.avi\n",
            "./UCF101_subset/test/Hammering/v_Hammering_g05_c04.avi\n",
            "./UCF101_subset/test/Hammering/v_Hammering_g17_c03.avi\n",
            "./UCF101_subset/test/Hammering/v_Hammering_g12_c05.avi\n",
            "./UCF101_subset/test/Hammering/v_Hammering_g24_c03.avi\n",
            "./UCF101_subset/test/Hammering/v_Hammering_g09_c05.avi\n",
            "./UCF101_subset/test/Hammering/v_Hammering_g15_c04.avi\n",
            "./UCF101_subset/test/JugglingBalls\n",
            "./UCF101_subset/test/JugglingBalls/v_JugglingBalls_g18_c03.avi\n",
            "./UCF101_subset/test/JugglingBalls/v_JugglingBalls_g22_c03.avi\n",
            "./UCF101_subset/test/JugglingBalls/v_JugglingBalls_g07_c06.avi\n",
            "./UCF101_subset/test/JugglingBalls/v_JugglingBalls_g07_c04.avi\n",
            "./UCF101_subset/test/JugglingBalls/v_JugglingBalls_g11_c02.avi\n",
            "./UCF101_subset/test/JugglingBalls/v_JugglingBalls_g18_c01.avi\n",
            "./UCF101_subset/test/JugglingBalls/v_JugglingBalls_g19_c03.avi\n",
            "./UCF101_subset/test/JugglingBalls/UCF101\n",
            "./UCF101_subset/test/JugglingBalls/v_JugglingBalls_g05_c01.avi\n",
            "./UCF101_subset/test/JugglingBalls/v_JugglingBalls_g25_c01.avi\n",
            "./UCF101_subset/test/JugglingBalls/v_JugglingBalls_g09_c06.avi\n",
            "./UCF101_subset/test/HorseRiding\n",
            "./UCF101_subset/test/HorseRiding/v_HorseRiding_g03_c01.avi\n",
            "./UCF101_subset/test/HorseRiding/v_HorseRiding_g25_c04.avi\n",
            "./UCF101_subset/test/HorseRiding/v_HorseRiding_g22_c04.avi\n",
            "./UCF101_subset/test/HorseRiding/v_HorseRiding_g25_c06.avi\n",
            "./UCF101_subset/test/HorseRiding/UCF101\n",
            "./UCF101_subset/test/HorseRiding/v_HorseRiding_g04_c04.avi\n",
            "./UCF101_subset/test/HorseRiding/v_HorseRiding_g11_c07.avi\n",
            "./UCF101_subset/test/HorseRiding/v_HorseRiding_g06_c04.avi\n",
            "./UCF101_subset/test/HorseRiding/v_HorseRiding_g10_c02.avi\n",
            "./UCF101_subset/test/HorseRiding/v_HorseRiding_g14_c05.avi\n",
            "./UCF101_subset/test/HorseRiding/v_HorseRiding_g19_c06.avi\n",
            "./UCF101_subset/test/Billiards\n",
            "./UCF101_subset/test/Billiards/v_Billiards_g13_c03.avi\n",
            "./UCF101_subset/test/Billiards/v_Billiards_g08_c01.avi\n",
            "./UCF101_subset/test/Billiards/v_Billiards_g11_c01.avi\n",
            "./UCF101_subset/test/Billiards/v_Billiards_g19_c01.avi\n",
            "./UCF101_subset/test/Billiards/v_Billiards_g04_c03.avi\n",
            "./UCF101_subset/test/Billiards/UCF101\n",
            "./UCF101_subset/test/Billiards/v_Billiards_g25_c04.avi\n",
            "./UCF101_subset/test/Billiards/v_Billiards_g11_c07.avi\n",
            "./UCF101_subset/test/Billiards/v_Billiards_g22_c01.avi\n",
            "./UCF101_subset/test/Billiards/v_Billiards_g14_c04.avi\n",
            "./UCF101_subset/test/Billiards/v_Billiards_g12_c06.avi\n",
            "./UCF101_subset/test/ApplyEyeMakeup\n",
            "./UCF101_subset/test/ApplyEyeMakeup/v_ApplyEyeMakeup_g22_c03.avi\n",
            "./UCF101_subset/test/ApplyEyeMakeup/v_ApplyEyeMakeup_g08_c05.avi\n",
            "./UCF101_subset/test/ApplyEyeMakeup/v_ApplyEyeMakeup_g03_c03.avi\n",
            "./UCF101_subset/test/ApplyEyeMakeup/UCF101\n",
            "./UCF101_subset/test/ApplyEyeMakeup/v_ApplyEyeMakeup_g23_c06.avi\n",
            "./UCF101_subset/test/ApplyEyeMakeup/v_ApplyEyeMakeup_g04_c05.avi\n",
            "./UCF101_subset/test/ApplyEyeMakeup/v_ApplyEyeMakeup_g12_c05.avi\n",
            "./UCF101_subset/test/ApplyEyeMakeup/v_ApplyEyeMakeup_g14_c03.avi\n",
            "./UCF101_subset/test/ApplyEyeMakeup/v_ApplyEyeMakeup_g01_c03.avi\n",
            "./UCF101_subset/test/ApplyEyeMakeup/v_ApplyEyeMakeup_g24_c06.avi\n",
            "./UCF101_subset/test/ApplyEyeMakeup/v_ApplyEyeMakeup_g18_c01.avi\n",
            "./UCF101_subset/test/Typing\n",
            "./UCF101_subset/test/Typing/v_Typing_g16_c01.avi\n",
            "./UCF101_subset/test/Typing/v_Typing_g02_c03.avi\n",
            "./UCF101_subset/test/Typing/v_Typing_g14_c06.avi\n",
            "./UCF101_subset/test/Typing/v_Typing_g18_c01.avi\n",
            "./UCF101_subset/test/Typing/UCF101\n",
            "./UCF101_subset/test/Typing/v_Typing_g05_c02.avi\n",
            "./UCF101_subset/test/Typing/v_Typing_g20_c05.avi\n",
            "./UCF101_subset/test/Typing/v_Typing_g08_c01.avi\n",
            "./UCF101_subset/test/Typing/v_Typing_g07_c01.avi\n",
            "./UCF101_subset/test/Typing/v_Typing_g10_c05.avi\n",
            "./UCF101_subset/test/Typing/v_Typing_g08_c05.avi\n",
            "./UCF101_subset/test/Biking\n",
            "./UCF101_subset/test/Biking/v_Biking_g06_c02.avi\n",
            "./UCF101_subset/test/Biking/v_Biking_g17_c05.avi\n",
            "./UCF101_subset/test/Biking/v_Biking_g15_c03.avi\n",
            "./UCF101_subset/test/Biking/v_Biking_g17_c01.avi\n",
            "./UCF101_subset/test/Biking/v_Biking_g22_c05.avi\n",
            "./UCF101_subset/test/Biking/UCF101\n",
            "./UCF101_subset/test/Biking/v_Biking_g01_c01.avi\n",
            "./UCF101_subset/test/Biking/v_Biking_g04_c02.avi\n",
            "./UCF101_subset/test/Biking/v_Biking_g10_c03.avi\n",
            "./UCF101_subset/test/Biking/v_Biking_g15_c05.avi\n",
            "./UCF101_subset/test/Biking/v_Biking_g24_c02.avi\n",
            "./UCF101_subset/val\n",
            "./UCF101_subset/val/Basketball\n",
            "./UCF101_subset/val/Basketball/v_Basketball_g15_c01.avi\n",
            "./UCF101_subset/val/Basketball/v_Basketball_g16_c04.avi\n",
            "./UCF101_subset/val/Basketball/v_Basketball_g22_c03.avi\n",
            "./UCF101_subset/val/Basketball/v_Basketball_g16_c02.avi\n",
            "./UCF101_subset/val/Basketball/v_Basketball_g13_c02.avi\n",
            "./UCF101_subset/val/Basketball/v_Basketball_g22_c07.avi\n",
            "./UCF101_subset/val/Basketball/v_Basketball_g14_c02.avi\n",
            "./UCF101_subset/val/Basketball/v_Basketball_g14_c04.avi\n",
            "./UCF101_subset/val/Basketball/UCF101\n",
            "./UCF101_subset/val/Basketball/v_Basketball_g23_c04.avi\n",
            "./UCF101_subset/val/Basketball/v_Basketball_g03_c04.avi\n",
            "./UCF101_subset/val/PlayingGuitar\n",
            "./UCF101_subset/val/PlayingGuitar/v_PlayingGuitar_g23_c01.avi\n",
            "./UCF101_subset/val/PlayingGuitar/v_PlayingGuitar_g01_c03.avi\n",
            "./UCF101_subset/val/PlayingGuitar/UCF101\n",
            "./UCF101_subset/val/PlayingGuitar/v_PlayingGuitar_g08_c04.avi\n",
            "./UCF101_subset/val/PlayingGuitar/v_PlayingGuitar_g20_c05.avi\n",
            "./UCF101_subset/val/PlayingGuitar/v_PlayingGuitar_g23_c03.avi\n",
            "./UCF101_subset/val/PlayingGuitar/v_PlayingGuitar_g04_c06.avi\n",
            "./UCF101_subset/val/PlayingGuitar/v_PlayingGuitar_g18_c03.avi\n",
            "./UCF101_subset/val/PlayingGuitar/v_PlayingGuitar_g12_c05.avi\n",
            "./UCF101_subset/val/PlayingGuitar/v_PlayingGuitar_g23_c05.avi\n",
            "./UCF101_subset/val/PlayingGuitar/v_PlayingGuitar_g11_c06.avi\n",
            "./UCF101_subset/val/ApplyLipstick\n",
            "./UCF101_subset/val/ApplyLipstick/v_ApplyLipstick_g08_c04.avi\n",
            "./UCF101_subset/val/ApplyLipstick/v_ApplyLipstick_g15_c01.avi\n",
            "./UCF101_subset/val/ApplyLipstick/v_ApplyLipstick_g14_c01.avi\n",
            "./UCF101_subset/val/ApplyLipstick/v_ApplyLipstick_g24_c01.avi\n",
            "./UCF101_subset/val/ApplyLipstick/v_ApplyLipstick_g09_c02.avi\n",
            "./UCF101_subset/val/ApplyLipstick/UCF101\n",
            "./UCF101_subset/val/ApplyLipstick/v_ApplyLipstick_g06_c01.avi\n",
            "./UCF101_subset/val/ApplyLipstick/v_ApplyLipstick_g02_c03.avi\n",
            "./UCF101_subset/val/ApplyLipstick/v_ApplyLipstick_g12_c04.avi\n",
            "./UCF101_subset/val/ApplyLipstick/v_ApplyLipstick_g21_c01.avi\n",
            "./UCF101_subset/val/ApplyLipstick/v_ApplyLipstick_g17_c01.avi\n",
            "./UCF101_subset/val/Hammering\n",
            "./UCF101_subset/val/Hammering/v_Hammering_g22_c02.avi\n",
            "./UCF101_subset/val/Hammering/v_Hammering_g10_c04.avi\n",
            "./UCF101_subset/val/Hammering/v_Hammering_g16_c01.avi\n",
            "./UCF101_subset/val/Hammering/v_Hammering_g12_c03.avi\n",
            "./UCF101_subset/val/Hammering/v_Hammering_g14_c07.avi\n",
            "./UCF101_subset/val/Hammering/v_Hammering_g14_c05.avi\n",
            "./UCF101_subset/val/Hammering/v_Hammering_g12_c01.avi\n",
            "./UCF101_subset/val/Hammering/UCF101\n",
            "./UCF101_subset/val/Hammering/v_Hammering_g04_c01.avi\n",
            "./UCF101_subset/val/Hammering/v_Hammering_g09_c01.avi\n",
            "./UCF101_subset/val/Hammering/v_Hammering_g20_c03.avi\n",
            "./UCF101_subset/val/JugglingBalls\n",
            "./UCF101_subset/val/JugglingBalls/v_JugglingBalls_g10_c04.avi\n",
            "./UCF101_subset/val/JugglingBalls/v_JugglingBalls_g08_c03.avi\n",
            "./UCF101_subset/val/JugglingBalls/v_JugglingBalls_g22_c01.avi\n",
            "./UCF101_subset/val/JugglingBalls/v_JugglingBalls_g15_c01.avi\n",
            "./UCF101_subset/val/JugglingBalls/UCF101\n",
            "./UCF101_subset/val/JugglingBalls/v_JugglingBalls_g12_c01.avi\n",
            "./UCF101_subset/val/JugglingBalls/v_JugglingBalls_g10_c02.avi\n",
            "./UCF101_subset/val/JugglingBalls/v_JugglingBalls_g20_c03.avi\n",
            "./UCF101_subset/val/JugglingBalls/v_JugglingBalls_g04_c02.avi\n",
            "./UCF101_subset/val/JugglingBalls/v_JugglingBalls_g21_c01.avi\n",
            "./UCF101_subset/val/JugglingBalls/v_JugglingBalls_g23_c01.avi\n",
            "./UCF101_subset/val/HorseRiding\n",
            "./UCF101_subset/val/HorseRiding/v_HorseRiding_g05_c03.avi\n",
            "./UCF101_subset/val/HorseRiding/v_HorseRiding_g14_c03.avi\n",
            "./UCF101_subset/val/HorseRiding/v_HorseRiding_g21_c04.avi\n",
            "./UCF101_subset/val/HorseRiding/v_HorseRiding_g16_c02.avi\n",
            "./UCF101_subset/val/HorseRiding/v_HorseRiding_g07_c01.avi\n",
            "./UCF101_subset/val/HorseRiding/v_HorseRiding_g05_c05.avi\n",
            "./UCF101_subset/val/HorseRiding/v_HorseRiding_g06_c06.avi\n",
            "./UCF101_subset/val/HorseRiding/UCF101\n",
            "./UCF101_subset/val/HorseRiding/v_HorseRiding_g11_c03.avi\n",
            "./UCF101_subset/val/HorseRiding/v_HorseRiding_g04_c06.avi\n",
            "./UCF101_subset/val/HorseRiding/v_HorseRiding_g09_c02.avi\n",
            "./UCF101_subset/val/Billiards\n",
            "./UCF101_subset/val/Billiards/v_Billiards_g01_c03.avi\n",
            "./UCF101_subset/val/Billiards/v_Billiards_g19_c03.avi\n",
            "./UCF101_subset/val/Billiards/v_Billiards_g05_c04.avi\n",
            "./UCF101_subset/val/Billiards/v_Billiards_g01_c01.avi\n",
            "./UCF101_subset/val/Billiards/UCF101\n",
            "./UCF101_subset/val/Billiards/v_Billiards_g20_c04.avi\n",
            "./UCF101_subset/val/Billiards/v_Billiards_g04_c05.avi\n",
            "./UCF101_subset/val/Billiards/v_Billiards_g01_c05.avi\n",
            "./UCF101_subset/val/Billiards/v_Billiards_g15_c01.avi\n",
            "./UCF101_subset/val/Billiards/v_Billiards_g11_c03.avi\n",
            "./UCF101_subset/val/Billiards/v_Billiards_g18_c02.avi\n",
            "./UCF101_subset/val/ApplyEyeMakeup\n",
            "./UCF101_subset/val/ApplyEyeMakeup/v_ApplyEyeMakeup_g06_c05.avi\n",
            "./UCF101_subset/val/ApplyEyeMakeup/v_ApplyEyeMakeup_g06_c07.avi\n",
            "./UCF101_subset/val/ApplyEyeMakeup/v_ApplyEyeMakeup_g02_c03.avi\n",
            "./UCF101_subset/val/ApplyEyeMakeup/v_ApplyEyeMakeup_g25_c01.avi\n",
            "./UCF101_subset/val/ApplyEyeMakeup/v_ApplyEyeMakeup_g13_c01.avi\n",
            "./UCF101_subset/val/ApplyEyeMakeup/v_ApplyEyeMakeup_g18_c05.avi\n",
            "./UCF101_subset/val/ApplyEyeMakeup/UCF101\n",
            "./UCF101_subset/val/ApplyEyeMakeup/v_ApplyEyeMakeup_g20_c02.avi\n",
            "./UCF101_subset/val/ApplyEyeMakeup/v_ApplyEyeMakeup_g09_c06.avi\n",
            "./UCF101_subset/val/ApplyEyeMakeup/v_ApplyEyeMakeup_g12_c01.avi\n",
            "./UCF101_subset/val/ApplyEyeMakeup/v_ApplyEyeMakeup_g03_c01.avi\n",
            "./UCF101_subset/val/Typing\n",
            "./UCF101_subset/val/Typing/v_Typing_g07_c05.avi\n",
            "./UCF101_subset/val/Typing/v_Typing_g03_c05.avi\n",
            "./UCF101_subset/val/Typing/v_Typing_g19_c03.avi\n",
            "./UCF101_subset/val/Typing/v_Typing_g19_c01.avi\n",
            "./UCF101_subset/val/Typing/UCF101\n",
            "./UCF101_subset/val/Typing/v_Typing_g06_c02.avi\n",
            "./UCF101_subset/val/Typing/v_Typing_g02_c01.avi\n",
            "./UCF101_subset/val/Typing/v_Typing_g01_c02.avi\n",
            "./UCF101_subset/val/Typing/v_Typing_g25_c04.avi\n",
            "./UCF101_subset/val/Typing/v_Typing_g12_c03.avi\n",
            "./UCF101_subset/val/Typing/v_Typing_g25_c02.avi\n",
            "./UCF101_subset/val/Biking\n",
            "./UCF101_subset/val/Biking/v_Biking_g05_c03.avi\n",
            "./UCF101_subset/val/Biking/UCF101\n",
            "./UCF101_subset/val/Biking/v_Biking_g02_c07.avi\n",
            "./UCF101_subset/val/Biking/v_Biking_g03_c02.avi\n",
            "./UCF101_subset/val/Biking/v_Biking_g07_c03.avi\n",
            "./UCF101_subset/val/Biking/v_Biking_g13_c01.avi\n",
            "./UCF101_subset/val/Biking/v_Biking_g23_c02.avi\n",
            "./UCF101_subset/val/Biking/v_Biking_g19_c01.avi\n",
            "./UCF101_subset/val/Biking/v_Biking_g13_c03.avi\n",
            "./UCF101_subset/val/Biking/v_Biking_g21_c06.avi\n",
            "./UCF101_subset/val/Biking/v_Biking_g10_c05.avi\n",
            "./UCF101_subset/train\n",
            "./UCF101_subset/train/Basketball\n",
            "./UCF101_subset/train/Basketball/v_Basketball_g17_c02.avi\n",
            "./UCF101_subset/train/Basketball/v_Basketball_g01_c07.avi\n",
            "./UCF101_subset/train/Basketball/v_Basketball_g03_c02.avi\n",
            "./UCF101_subset/train/Basketball/v_Basketball_g18_c02.avi\n",
            "./UCF101_subset/train/Basketball/v_Basketball_g13_c04.avi\n",
            "./UCF101_subset/train/Basketball/v_Basketball_g18_c04.avi\n",
            "./UCF101_subset/train/Basketball/v_Basketball_g12_c03.avi\n",
            "./UCF101_subset/train/Basketball/v_Basketball_g15_c07.avi\n",
            "./UCF101_subset/train/Basketball/v_Basketball_g09_c04.avi\n",
            "./UCF101_subset/train/Basketball/v_Basketball_g02_c04.avi\n",
            "./UCF101_subset/train/Basketball/v_Basketball_g11_c04.avi\n",
            "./UCF101_subset/train/Basketball/v_Basketball_g09_c02.avi\n",
            "./UCF101_subset/train/Basketball/v_Basketball_g19_c03.avi\n",
            "./UCF101_subset/train/Basketball/UCF101\n",
            "./UCF101_subset/train/Basketball/v_Basketball_g10_c03.avi\n",
            "./UCF101_subset/train/Basketball/v_Basketball_g03_c06.avi\n",
            "./UCF101_subset/train/Basketball/v_Basketball_g11_c02.avi\n",
            "./UCF101_subset/train/Basketball/v_Basketball_g20_c06.avi\n",
            "./UCF101_subset/train/Basketball/v_Basketball_g05_c02.avi\n",
            "./UCF101_subset/train/Basketball/v_Basketball_g23_c02.avi\n",
            "./UCF101_subset/train/Basketball/v_Basketball_g17_c04.avi\n",
            "./UCF101_subset/train/Basketball/v_Basketball_g12_c01.avi\n",
            "./UCF101_subset/train/Basketball/v_Basketball_g19_c01.avi\n",
            "./UCF101_subset/train/Basketball/v_Basketball_g21_c05.avi\n",
            "./UCF101_subset/train/Basketball/v_Basketball_g01_c01.avi\n",
            "./UCF101_subset/train/Basketball/v_Basketball_g07_c04.avi\n",
            "./UCF101_subset/train/Basketball/v_Basketball_g08_c02.avi\n",
            "./UCF101_subset/train/Basketball/v_Basketball_g22_c01.avi\n",
            "./UCF101_subset/train/Basketball/v_Basketball_g15_c03.avi\n",
            "./UCF101_subset/train/Basketball/v_Basketball_g25_c02.avi\n",
            "./UCF101_subset/train/Basketball/v_Basketball_g24_c04.avi\n",
            "./UCF101_subset/train/PlayingGuitar\n",
            "./UCF101_subset/train/PlayingGuitar/v_PlayingGuitar_g14_c05.avi\n",
            "./UCF101_subset/train/PlayingGuitar/v_PlayingGuitar_g10_c01.avi\n",
            "./UCF101_subset/train/PlayingGuitar/v_PlayingGuitar_g20_c07.avi\n",
            "./UCF101_subset/train/PlayingGuitar/v_PlayingGuitar_g06_c04.avi\n",
            "./UCF101_subset/train/PlayingGuitar/v_PlayingGuitar_g03_c03.avi\n",
            "./UCF101_subset/train/PlayingGuitar/v_PlayingGuitar_g18_c01.avi\n",
            "./UCF101_subset/train/PlayingGuitar/v_PlayingGuitar_g01_c05.avi\n",
            "./UCF101_subset/train/PlayingGuitar/v_PlayingGuitar_g12_c03.avi\n",
            "./UCF101_subset/train/PlayingGuitar/v_PlayingGuitar_g15_c06.avi\n",
            "./UCF101_subset/train/PlayingGuitar/v_PlayingGuitar_g05_c03.avi\n",
            "./UCF101_subset/train/PlayingGuitar/v_PlayingGuitar_g19_c04.avi\n",
            "./UCF101_subset/train/PlayingGuitar/UCF101\n",
            "./UCF101_subset/train/PlayingGuitar/v_PlayingGuitar_g08_c06.avi\n",
            "./UCF101_subset/train/PlayingGuitar/v_PlayingGuitar_g07_c01.avi\n",
            "./UCF101_subset/train/PlayingGuitar/v_PlayingGuitar_g15_c04.avi\n",
            "./UCF101_subset/train/PlayingGuitar/v_PlayingGuitar_g11_c02.avi\n",
            "./UCF101_subset/train/PlayingGuitar/v_PlayingGuitar_g24_c02.avi\n",
            "./UCF101_subset/train/PlayingGuitar/v_PlayingGuitar_g18_c07.avi\n",
            "./UCF101_subset/train/PlayingGuitar/v_PlayingGuitar_g07_c07.avi\n",
            "./UCF101_subset/train/PlayingGuitar/v_PlayingGuitar_g06_c02.avi\n",
            "./UCF101_subset/train/PlayingGuitar/v_PlayingGuitar_g13_c02.avi\n",
            "./UCF101_subset/train/PlayingGuitar/v_PlayingGuitar_g16_c03.avi\n",
            "./UCF101_subset/train/PlayingGuitar/v_PlayingGuitar_g09_c03.avi\n",
            "./UCF101_subset/train/PlayingGuitar/v_PlayingGuitar_g03_c01.avi\n",
            "./UCF101_subset/train/PlayingGuitar/v_PlayingGuitar_g13_c06.avi\n",
            "./UCF101_subset/train/PlayingGuitar/v_PlayingGuitar_g22_c04.avi\n",
            "./UCF101_subset/train/PlayingGuitar/v_PlayingGuitar_g19_c06.avi\n",
            "./UCF101_subset/train/PlayingGuitar/v_PlayingGuitar_g25_c04.avi\n",
            "./UCF101_subset/train/PlayingGuitar/v_PlayingGuitar_g10_c03.avi\n",
            "./UCF101_subset/train/PlayingGuitar/v_PlayingGuitar_g19_c02.avi\n",
            "./UCF101_subset/train/PlayingGuitar/v_PlayingGuitar_g14_c01.avi\n",
            "./UCF101_subset/train/ApplyLipstick\n",
            "./UCF101_subset/train/ApplyLipstick/v_ApplyLipstick_g02_c01.avi\n",
            "./UCF101_subset/train/ApplyLipstick/v_ApplyLipstick_g07_c04.avi\n",
            "./UCF101_subset/train/ApplyLipstick/v_ApplyLipstick_g09_c04.avi\n",
            "./UCF101_subset/train/ApplyLipstick/v_ApplyLipstick_g06_c03.avi\n",
            "./UCF101_subset/train/ApplyLipstick/v_ApplyLipstick_g10_c02.avi\n",
            "./UCF101_subset/train/ApplyLipstick/v_ApplyLipstick_g18_c04.avi\n",
            "./UCF101_subset/train/ApplyLipstick/v_ApplyLipstick_g08_c02.avi\n",
            "./UCF101_subset/train/ApplyLipstick/v_ApplyLipstick_g12_c02.avi\n",
            "./UCF101_subset/train/ApplyLipstick/v_ApplyLipstick_g21_c03.avi\n",
            "./UCF101_subset/train/ApplyLipstick/v_ApplyLipstick_g11_c04.avi\n",
            "./UCF101_subset/train/ApplyLipstick/v_ApplyLipstick_g22_c06.avi\n",
            "./UCF101_subset/train/ApplyLipstick/v_ApplyLipstick_g23_c03.avi\n",
            "./UCF101_subset/train/ApplyLipstick/v_ApplyLipstick_g05_c04.avi\n",
            "./UCF101_subset/train/ApplyLipstick/v_ApplyLipstick_g16_c02.avi\n",
            "./UCF101_subset/train/ApplyLipstick/v_ApplyLipstick_g16_c04.avi\n",
            "./UCF101_subset/train/ApplyLipstick/UCF101\n",
            "./UCF101_subset/train/ApplyLipstick/v_ApplyLipstick_g19_c04.avi\n",
            "./UCF101_subset/train/ApplyLipstick/v_ApplyLipstick_g11_c02.avi\n",
            "./UCF101_subset/train/ApplyLipstick/v_ApplyLipstick_g07_c02.avi\n",
            "./UCF101_subset/train/ApplyLipstick/v_ApplyLipstick_g13_c01.avi\n",
            "./UCF101_subset/train/ApplyLipstick/v_ApplyLipstick_g05_c02.avi\n",
            "./UCF101_subset/train/ApplyLipstick/v_ApplyLipstick_g19_c02.avi\n",
            "./UCF101_subset/train/ApplyLipstick/v_ApplyLipstick_g01_c02.avi\n",
            "./UCF101_subset/train/ApplyLipstick/v_ApplyLipstick_g25_c02.avi\n",
            "./UCF101_subset/train/ApplyLipstick/v_ApplyLipstick_g06_c05.avi\n",
            "./UCF101_subset/train/ApplyLipstick/v_ApplyLipstick_g10_c04.avi\n",
            "./UCF101_subset/train/ApplyLipstick/v_ApplyLipstick_g21_c05.avi\n",
            "./UCF101_subset/train/ApplyLipstick/v_ApplyLipstick_g15_c05.avi\n",
            "./UCF101_subset/train/ApplyLipstick/v_ApplyLipstick_g24_c05.avi\n",
            "./UCF101_subset/train/ApplyLipstick/v_ApplyLipstick_g04_c01.avi\n",
            "./UCF101_subset/train/ApplyLipstick/v_ApplyLipstick_g20_c04.avi\n",
            "./UCF101_subset/train/Hammering\n",
            "./UCF101_subset/train/Hammering/v_Hammering_g01_c04.avi\n",
            "./UCF101_subset/train/Hammering/v_Hammering_g01_c02.avi\n",
            "./UCF101_subset/train/Hammering/v_Hammering_g11_c03.avi\n",
            "./UCF101_subset/train/Hammering/v_Hammering_g24_c07.avi\n",
            "./UCF101_subset/train/Hammering/v_Hammering_g25_c02.avi\n",
            "./UCF101_subset/train/Hammering/v_Hammering_g06_c06.avi\n",
            "./UCF101_subset/train/Hammering/v_Hammering_g16_c03.avi\n",
            "./UCF101_subset/train/Hammering/v_Hammering_g09_c03.avi\n",
            "./UCF101_subset/train/Hammering/v_Hammering_g09_c07.avi\n",
            "./UCF101_subset/train/Hammering/v_Hammering_g24_c05.avi\n",
            "./UCF101_subset/train/Hammering/v_Hammering_g11_c01.avi\n",
            "./UCF101_subset/train/Hammering/UCF101\n",
            "./UCF101_subset/train/Hammering/v_Hammering_g17_c05.avi\n",
            "./UCF101_subset/train/Hammering/v_Hammering_g03_c04.avi\n",
            "./UCF101_subset/train/Hammering/v_Hammering_g19_c01.avi\n",
            "./UCF101_subset/train/Hammering/v_Hammering_g25_c04.avi\n",
            "./UCF101_subset/train/Hammering/v_Hammering_g13_c02.avi\n",
            "./UCF101_subset/train/Hammering/v_Hammering_g14_c03.avi\n",
            "./UCF101_subset/train/Hammering/v_Hammering_g18_c04.avi\n",
            "./UCF101_subset/train/Hammering/v_Hammering_g18_c06.avi\n",
            "./UCF101_subset/train/Hammering/v_Hammering_g15_c06.avi\n",
            "./UCF101_subset/train/Hammering/v_Hammering_g19_c05.avi\n",
            "./UCF101_subset/train/Hammering/v_Hammering_g02_c02.avi\n",
            "./UCF101_subset/train/Hammering/v_Hammering_g06_c02.avi\n",
            "./UCF101_subset/train/Hammering/v_Hammering_g04_c03.avi\n",
            "./UCF101_subset/train/Hammering/v_Hammering_g07_c04.avi\n",
            "./UCF101_subset/train/Hammering/v_Hammering_g24_c01.avi\n",
            "./UCF101_subset/train/Hammering/v_Hammering_g10_c06.avi\n",
            "./UCF101_subset/train/Hammering/v_Hammering_g05_c02.avi\n",
            "./UCF101_subset/train/Hammering/v_Hammering_g23_c01.avi\n",
            "./UCF101_subset/train/Hammering/v_Hammering_g21_c07.avi\n",
            "./UCF101_subset/train/JugglingBalls\n",
            "./UCF101_subset/train/JugglingBalls/v_JugglingBalls_g22_c05.avi\n",
            "./UCF101_subset/train/JugglingBalls/v_JugglingBalls_g02_c05.avi\n",
            "./UCF101_subset/train/JugglingBalls/v_JugglingBalls_g01_c01.avi\n",
            "./UCF101_subset/train/JugglingBalls/v_JugglingBalls_g14_c02.avi\n",
            "./UCF101_subset/train/JugglingBalls/v_JugglingBalls_g03_c07.avi\n",
            "./UCF101_subset/train/JugglingBalls/v_JugglingBalls_g08_c05.avi\n",
            "./UCF101_subset/train/JugglingBalls/v_JugglingBalls_g06_c06.avi\n",
            "./UCF101_subset/train/JugglingBalls/v_JugglingBalls_g09_c04.avi\n",
            "./UCF101_subset/train/JugglingBalls/UCF101\n",
            "./UCF101_subset/train/JugglingBalls/v_JugglingBalls_g04_c04.avi\n",
            "./UCF101_subset/train/JugglingBalls/v_JugglingBalls_g20_c01.avi\n",
            "./UCF101_subset/train/JugglingBalls/v_JugglingBalls_g12_c03.avi\n",
            "./UCF101_subset/train/JugglingBalls/v_JugglingBalls_g07_c02.avi\n",
            "./UCF101_subset/train/JugglingBalls/v_JugglingBalls_g12_c05.avi\n",
            "./UCF101_subset/train/JugglingBalls/v_JugglingBalls_g05_c03.avi\n",
            "./UCF101_subset/train/JugglingBalls/v_JugglingBalls_g17_c03.avi\n",
            "./UCF101_subset/train/JugglingBalls/v_JugglingBalls_g03_c05.avi\n",
            "./UCF101_subset/train/JugglingBalls/v_JugglingBalls_g24_c01.avi\n",
            "./UCF101_subset/train/JugglingBalls/v_JugglingBalls_g16_c03.avi\n",
            "./UCF101_subset/train/JugglingBalls/v_JugglingBalls_g01_c03.avi\n",
            "./UCF101_subset/train/JugglingBalls/v_JugglingBalls_g25_c03.avi\n",
            "./UCF101_subset/train/JugglingBalls/v_JugglingBalls_g11_c04.avi\n",
            "./UCF101_subset/train/JugglingBalls/v_JugglingBalls_g03_c01.avi\n",
            "./UCF101_subset/train/JugglingBalls/v_JugglingBalls_g21_c03.avi\n",
            "./UCF101_subset/train/JugglingBalls/v_JugglingBalls_g06_c02.avi\n",
            "./UCF101_subset/train/JugglingBalls/v_JugglingBalls_g05_c05.avi\n",
            "./UCF101_subset/train/JugglingBalls/v_JugglingBalls_g08_c01.avi\n",
            "./UCF101_subset/train/JugglingBalls/v_JugglingBalls_g23_c03.avi\n",
            "./UCF101_subset/train/JugglingBalls/v_JugglingBalls_g16_c01.avi\n",
            "./UCF101_subset/train/JugglingBalls/v_JugglingBalls_g02_c01.avi\n",
            "./UCF101_subset/train/JugglingBalls/v_JugglingBalls_g17_c01.avi\n",
            "./UCF101_subset/train/HorseRiding\n",
            "./UCF101_subset/train/HorseRiding/v_HorseRiding_g12_c06.avi\n",
            "./UCF101_subset/train/HorseRiding/v_HorseRiding_g18_c02.avi\n",
            "./UCF101_subset/train/HorseRiding/v_HorseRiding_g15_c04.avi\n",
            "./UCF101_subset/train/HorseRiding/v_HorseRiding_g10_c04.avi\n",
            "./UCF101_subset/train/HorseRiding/v_HorseRiding_g08_c02.avi\n",
            "./UCF101_subset/train/HorseRiding/v_HorseRiding_g03_c07.avi\n",
            "./UCF101_subset/train/HorseRiding/v_HorseRiding_g03_c03.avi\n",
            "./UCF101_subset/train/HorseRiding/v_HorseRiding_g07_c05.avi\n",
            "./UCF101_subset/train/HorseRiding/v_HorseRiding_g02_c06.avi\n",
            "./UCF101_subset/train/HorseRiding/v_HorseRiding_g17_c06.avi\n",
            "./UCF101_subset/train/HorseRiding/v_HorseRiding_g20_c05.avi\n",
            "./UCF101_subset/train/HorseRiding/v_HorseRiding_g13_c03.avi\n",
            "./UCF101_subset/train/HorseRiding/UCF101\n",
            "./UCF101_subset/train/HorseRiding/v_HorseRiding_g09_c04.avi\n",
            "./UCF101_subset/train/HorseRiding/v_HorseRiding_g23_c03.avi\n",
            "./UCF101_subset/train/HorseRiding/v_HorseRiding_g15_c06.avi\n",
            "./UCF101_subset/train/HorseRiding/v_HorseRiding_g14_c07.avi\n",
            "./UCF101_subset/train/HorseRiding/v_HorseRiding_g25_c02.avi\n",
            "./UCF101_subset/train/HorseRiding/v_HorseRiding_g18_c06.avi\n",
            "./UCF101_subset/train/HorseRiding/v_HorseRiding_g09_c06.avi\n",
            "./UCF101_subset/train/HorseRiding/v_HorseRiding_g06_c02.avi\n",
            "./UCF101_subset/train/HorseRiding/v_HorseRiding_g14_c01.avi\n",
            "./UCF101_subset/train/HorseRiding/v_HorseRiding_g01_c05.avi\n",
            "./UCF101_subset/train/HorseRiding/v_HorseRiding_g01_c03.avi\n",
            "./UCF101_subset/train/HorseRiding/v_HorseRiding_g17_c04.avi\n",
            "./UCF101_subset/train/HorseRiding/v_HorseRiding_g05_c07.avi\n",
            "./UCF101_subset/train/HorseRiding/v_HorseRiding_g18_c04.avi\n",
            "./UCF101_subset/train/HorseRiding/v_HorseRiding_g20_c03.avi\n",
            "./UCF101_subset/train/HorseRiding/v_HorseRiding_g20_c01.avi\n",
            "./UCF101_subset/train/HorseRiding/v_HorseRiding_g24_c01.avi\n",
            "./UCF101_subset/train/HorseRiding/v_HorseRiding_g12_c02.avi\n",
            "./UCF101_subset/train/Billiards\n",
            "./UCF101_subset/train/Billiards/v_Billiards_g04_c01.avi\n",
            "./UCF101_subset/train/Billiards/v_Billiards_g08_c03.avi\n",
            "./UCF101_subset/train/Billiards/v_Billiards_g23_c04.avi\n",
            "./UCF101_subset/train/Billiards/v_Billiards_g11_c05.avi\n",
            "./UCF101_subset/train/Billiards/v_Billiards_g08_c05.avi\n",
            "./UCF101_subset/train/Billiards/v_Billiards_g02_c01.avi\n",
            "./UCF101_subset/train/Billiards/v_Billiards_g23_c02.avi\n",
            "./UCF101_subset/train/Billiards/v_Billiards_g10_c02.avi\n",
            "./UCF101_subset/train/Billiards/v_Billiards_g25_c06.avi\n",
            "./UCF101_subset/train/Billiards/v_Billiards_g09_c01.avi\n",
            "./UCF101_subset/train/Billiards/v_Billiards_g20_c02.avi\n",
            "./UCF101_subset/train/Billiards/v_Billiards_g22_c05.avi\n",
            "./UCF101_subset/train/Billiards/UCF101\n",
            "./UCF101_subset/train/Billiards/v_Billiards_g18_c04.avi\n",
            "./UCF101_subset/train/Billiards/v_Billiards_g02_c07.avi\n",
            "./UCF101_subset/train/Billiards/v_Billiards_g13_c01.avi\n",
            "./UCF101_subset/train/Billiards/v_Billiards_g24_c04.avi\n",
            "./UCF101_subset/train/Billiards/v_Billiards_g24_c02.avi\n",
            "./UCF101_subset/train/Billiards/v_Billiards_g09_c05.avi\n",
            "./UCF101_subset/train/Billiards/v_Billiards_g24_c06.avi\n",
            "./UCF101_subset/train/Billiards/v_Billiards_g02_c05.avi\n",
            "./UCF101_subset/train/Billiards/v_Billiards_g15_c05.avi\n",
            "./UCF101_subset/train/Billiards/v_Billiards_g16_c04.avi\n",
            "./UCF101_subset/train/Billiards/v_Billiards_g10_c04.avi\n",
            "./UCF101_subset/train/Billiards/v_Billiards_g17_c03.avi\n",
            "./UCF101_subset/train/Billiards/v_Billiards_g07_c01.avi\n",
            "./UCF101_subset/train/Billiards/v_Billiards_g09_c07.avi\n",
            "./UCF101_subset/train/Billiards/v_Billiards_g14_c06.avi\n",
            "./UCF101_subset/train/Billiards/v_Billiards_g09_c03.avi\n",
            "./UCF101_subset/train/Billiards/v_Billiards_g14_c02.avi\n",
            "./UCF101_subset/train/Billiards/v_Billiards_g12_c02.avi\n",
            "./UCF101_subset/train/ApplyEyeMakeup\n",
            "./UCF101_subset/train/ApplyEyeMakeup/v_ApplyEyeMakeup_g13_c05.avi\n",
            "./UCF101_subset/train/ApplyEyeMakeup/v_ApplyEyeMakeup_g03_c05.avi\n",
            "./UCF101_subset/train/ApplyEyeMakeup/v_ApplyEyeMakeup_g19_c02.avi\n",
            "./UCF101_subset/train/ApplyEyeMakeup/v_ApplyEyeMakeup_g07_c02.avi\n",
            "./UCF101_subset/train/ApplyEyeMakeup/v_ApplyEyeMakeup_g25_c03.avi\n",
            "./UCF101_subset/train/ApplyEyeMakeup/v_ApplyEyeMakeup_g17_c04.avi\n",
            "./UCF101_subset/train/ApplyEyeMakeup/v_ApplyEyeMakeup_g25_c05.avi\n",
            "./UCF101_subset/train/ApplyEyeMakeup/v_ApplyEyeMakeup_g21_c02.avi\n",
            "./UCF101_subset/train/ApplyEyeMakeup/v_ApplyEyeMakeup_g23_c02.avi\n",
            "./UCF101_subset/train/ApplyEyeMakeup/v_ApplyEyeMakeup_g04_c01.avi\n",
            "./UCF101_subset/train/ApplyEyeMakeup/v_ApplyEyeMakeup_g12_c03.avi\n",
            "./UCF101_subset/train/ApplyEyeMakeup/v_ApplyEyeMakeup_g16_c01.avi\n",
            "./UCF101_subset/train/ApplyEyeMakeup/v_ApplyEyeMakeup_g04_c07.avi\n",
            "./UCF101_subset/train/ApplyEyeMakeup/v_ApplyEyeMakeup_g10_c05.avi\n",
            "./UCF101_subset/train/ApplyEyeMakeup/v_ApplyEyeMakeup_g05_c02.avi\n",
            "./UCF101_subset/train/ApplyEyeMakeup/UCF101\n",
            "./UCF101_subset/train/ApplyEyeMakeup/v_ApplyEyeMakeup_g25_c07.avi\n",
            "./UCF101_subset/train/ApplyEyeMakeup/v_ApplyEyeMakeup_g24_c02.avi\n",
            "./UCF101_subset/train/ApplyEyeMakeup/v_ApplyEyeMakeup_g15_c06.avi\n",
            "./UCF101_subset/train/ApplyEyeMakeup/v_ApplyEyeMakeup_g11_c04.avi\n",
            "./UCF101_subset/train/ApplyEyeMakeup/v_ApplyEyeMakeup_g21_c04.avi\n",
            "./UCF101_subset/train/ApplyEyeMakeup/v_ApplyEyeMakeup_g11_c02.avi\n",
            "./UCF101_subset/train/ApplyEyeMakeup/v_ApplyEyeMakeup_g01_c05.avi\n",
            "./UCF101_subset/train/ApplyEyeMakeup/v_ApplyEyeMakeup_g23_c04.avi\n",
            "./UCF101_subset/train/ApplyEyeMakeup/v_ApplyEyeMakeup_g04_c03.avi\n",
            "./UCF101_subset/train/ApplyEyeMakeup/v_ApplyEyeMakeup_g10_c03.avi\n",
            "./UCF101_subset/train/ApplyEyeMakeup/v_ApplyEyeMakeup_g15_c04.avi\n",
            "./UCF101_subset/train/ApplyEyeMakeup/v_ApplyEyeMakeup_g08_c01.avi\n",
            "./UCF101_subset/train/ApplyEyeMakeup/v_ApplyEyeMakeup_g15_c02.avi\n",
            "./UCF101_subset/train/ApplyEyeMakeup/v_ApplyEyeMakeup_g24_c04.avi\n",
            "./UCF101_subset/train/ApplyEyeMakeup/v_ApplyEyeMakeup_g05_c04.avi\n",
            "./UCF101_subset/train/Typing\n",
            "./UCF101_subset/train/Typing/v_Typing_g12_c01.avi\n",
            "./UCF101_subset/train/Typing/v_Typing_g24_c02.avi\n",
            "./UCF101_subset/train/Typing/v_Typing_g14_c04.avi\n",
            "./UCF101_subset/train/Typing/v_Typing_g12_c05.avi\n",
            "./UCF101_subset/train/Typing/v_Typing_g13_c02.avi\n",
            "./UCF101_subset/train/Typing/v_Typing_g10_c03.avi\n",
            "./UCF101_subset/train/Typing/v_Typing_g11_c06.avi\n",
            "./UCF101_subset/train/Typing/v_Typing_g07_c03.avi\n",
            "./UCF101_subset/train/Typing/v_Typing_g09_c02.avi\n",
            "./UCF101_subset/train/Typing/v_Typing_g11_c02.avi\n",
            "./UCF101_subset/train/Typing/v_Typing_g23_c02.avi\n",
            "./UCF101_subset/train/Typing/v_Typing_g04_c02.avi\n",
            "./UCF101_subset/train/Typing/v_Typing_g09_c04.avi\n",
            "./UCF101_subset/train/Typing/v_Typing_g21_c02.avi\n",
            "./UCF101_subset/train/Typing/v_Typing_g02_c05.avi\n",
            "./UCF101_subset/train/Typing/v_Typing_g21_c04.avi\n",
            "./UCF101_subset/train/Typing/UCF101\n",
            "./UCF101_subset/train/Typing/v_Typing_g06_c06.avi\n",
            "./UCF101_subset/train/Typing/v_Typing_g09_c06.avi\n",
            "./UCF101_subset/train/Typing/v_Typing_g17_c03.avi\n",
            "./UCF101_subset/train/Typing/v_Typing_g06_c04.avi\n",
            "./UCF101_subset/train/Typing/v_Typing_g08_c03.avi\n",
            "./UCF101_subset/train/Typing/v_Typing_g20_c03.avi\n",
            "./UCF101_subset/train/Typing/v_Typing_g18_c03.avi\n",
            "./UCF101_subset/train/Typing/v_Typing_g01_c04.avi\n",
            "./UCF101_subset/train/Typing/v_Typing_g13_c04.avi\n",
            "./UCF101_subset/train/Typing/v_Typing_g01_c06.avi\n",
            "./UCF101_subset/train/Typing/v_Typing_g24_c04.avi\n",
            "./UCF101_subset/train/Typing/v_Typing_g22_c04.avi\n",
            "./UCF101_subset/train/Typing/v_Typing_g11_c04.avi\n",
            "./UCF101_subset/train/Typing/v_Typing_g10_c07.avi\n",
            "./UCF101_subset/train/Biking\n",
            "./UCF101_subset/train/Biking/v_Biking_g03_c04.avi\n",
            "./UCF101_subset/train/Biking/v_Biking_g06_c04.avi\n",
            "./UCF101_subset/train/Biking/v_Biking_g08_c01.avi\n",
            "./UCF101_subset/train/Biking/v_Biking_g12_c01.avi\n",
            "./UCF101_subset/train/Biking/v_Biking_g08_c05.avi\n",
            "./UCF101_subset/train/Biking/v_Biking_g14_c03.avi\n",
            "./UCF101_subset/train/Biking/v_Biking_g09_c01.avi\n",
            "./UCF101_subset/train/Biking/v_Biking_g08_c03.avi\n",
            "./UCF101_subset/train/Biking/v_Biking_g02_c01.avi\n",
            "./UCF101_subset/train/Biking/v_Biking_g18_c05.avi\n",
            "./UCF101_subset/train/Biking/v_Biking_g18_c01.avi\n",
            "./UCF101_subset/train/Biking/v_Biking_g11_c01.avi\n",
            "./UCF101_subset/train/Biking/v_Biking_g25_c03.avi\n",
            "./UCF101_subset/train/Biking/v_Biking_g02_c05.avi\n",
            "./UCF101_subset/train/Biking/v_Biking_g24_c04.avi\n",
            "./UCF101_subset/train/Biking/v_Biking_g13_c05.avi\n",
            "./UCF101_subset/train/Biking/UCF101\n",
            "./UCF101_subset/train/Biking/v_Biking_g18_c03.avi\n",
            "./UCF101_subset/train/Biking/v_Biking_g22_c03.avi\n",
            "./UCF101_subset/train/Biking/v_Biking_g10_c01.avi\n",
            "./UCF101_subset/train/Biking/v_Biking_g23_c04.avi\n",
            "./UCF101_subset/train/Biking/v_Biking_g16_c04.avi\n",
            "./UCF101_subset/train/Biking/v_Biking_g05_c05.avi\n",
            "./UCF101_subset/train/Biking/v_Biking_g09_c03.avi\n",
            "./UCF101_subset/train/Biking/v_Biking_g14_c01.avi\n",
            "./UCF101_subset/train/Biking/v_Biking_g05_c07.avi\n",
            "./UCF101_subset/train/Biking/v_Biking_g11_c05.avi\n",
            "./UCF101_subset/train/Biking/v_Biking_g21_c04.avi\n",
            "./UCF101_subset/train/Biking/v_Biking_g19_c03.avi\n",
            "./UCF101_subset/train/Biking/v_Biking_g04_c04.avi\n",
            "./UCF101_subset/train/Biking/v_Biking_g21_c02.avi\n"
          ]
        }
      ],
      "source": [
        "!find ./UCF101_subset"
      ]
    },
    {
      "cell_type": "markdown",
      "metadata": {
        "id": "U4uslY4dScyu"
      },
      "source": [
        "## Create frames from each video file"
      ]
    },
    {
      "cell_type": "markdown",
      "metadata": {
        "id": "D1vvyT0F7JAZ"
      },
      "source": [
        "The `frames_from_video_file` function splits the videos into frames, reads a randomly chosen span of `n_frames` out of a video file, and returns them as a NumPy `array`.\n",
        "To reduce memory and computation overhead, choose a **small** number of frames. In addition, pick the **same** number of frames from each video, which makes it easier to work on batches of data.\n"
      ]
    },
    {
      "cell_type": "code",
      "execution_count": 22,
      "metadata": {
        "id": "vNBCiV3bMzpD"
      },
      "outputs": [],
      "source": [
        "def format_frames(frame, output_size):\n",
        "  \"\"\"\n",
        "    Pad and resize an image from a video.\n",
        "\n",
        "    Args:\n",
        "      frame: Image that needs to resized and padded.\n",
        "      output_size: Pixel size of the output frame image.\n",
        "\n",
        "    Return:\n",
        "      Formatted frame with padding of specified output size.\n",
        "  \"\"\"\n",
        "  frame = tf.image.convert_image_dtype(frame, tf.float32)\n",
        "  frame = tf.image.resize_with_pad(frame, *output_size)\n",
        "  return frame"
      ]
    },
    {
      "cell_type": "code",
      "execution_count": 23,
      "metadata": {
        "id": "9ujLDC9G7JyE"
      },
      "outputs": [],
      "source": [
        "def frames_from_video_file(video_path, n_frames, output_size = (224,224), frame_step = 15):\n",
        "  \"\"\"\n",
        "    Creates frames from each video file present for each category.\n",
        "\n",
        "    Args:\n",
        "      video_path: File path to the video.\n",
        "      n_frames: Number of frames to be created per video file.\n",
        "      output_size: Pixel size of the output frame image.\n",
        "\n",
        "    Return:\n",
        "      An NumPy array of frames in the shape of (n_frames, height, width, channels).\n",
        "  \"\"\"\n",
        "  # Read each video frame by frame\n",
        "  result = []\n",
        "  src = cv2.VideoCapture(str(video_path))\n",
        "\n",
        "  video_length = src.get(cv2.CAP_PROP_FRAME_COUNT)\n",
        "\n",
        "  need_length = 1 + (n_frames - 1) * frame_step\n",
        "\n",
        "  if need_length > video_length:\n",
        "    start = 0\n",
        "  else:\n",
        "    max_start = video_length - need_length\n",
        "    start = random.randint(0, max_start + 1)\n",
        "\n",
        "  src.set(cv2.CAP_PROP_POS_FRAMES, start)\n",
        "  # ret is a boolean indicating whether read was successful, frame is the image itself\n",
        "  ret, frame = src.read()\n",
        "  result.append(format_frames(frame, output_size))\n",
        "\n",
        "  for _ in range(n_frames - 1):\n",
        "    for _ in range(frame_step):\n",
        "      ret, frame = src.read()\n",
        "    if ret:\n",
        "      frame = format_frames(frame, output_size)\n",
        "      result.append(frame)\n",
        "    else:\n",
        "      result.append(np.zeros_like(result[0]))\n",
        "  src.release()\n",
        "  result = np.array(result)[..., [2, 1, 0]]\n",
        "\n",
        "  return result"
      ]
    },
    {
      "cell_type": "markdown",
      "metadata": {
        "id": "NlvuC5_E7XrF"
      },
      "source": [
        "Next, we define the `FrameGenerator` class in order to create an iterable object that can feed data into the TensorFlow data pipeline. The generator (`__call__`) function yields the frame array produced by `frames_from_video_file` and a one-hot encoded vector of the label associated with the set of frames."
      ]
    },
    {
      "cell_type": "code",
      "execution_count": 24,
      "metadata": {
        "id": "MVmfLTlw7Ues"
      },
      "outputs": [],
      "source": [
        "class FrameGenerator:\n",
        "  def __init__(self, path, n_frames, training = False):\n",
        "    \"\"\" Returns a set of frames with their associated label.\n",
        "\n",
        "      Args:\n",
        "        path: Video file paths.\n",
        "        n_frames: Number of frames.\n",
        "        training: Boolean to determine if training dataset is being created.\n",
        "    \"\"\"\n",
        "    self.path = path\n",
        "    self.n_frames = n_frames\n",
        "    self.training = training\n",
        "    self.class_names = sorted(set(p.name for p in self.path.iterdir() if p.is_dir()))\n",
        "    self.class_ids_for_name = dict((name, idx) for idx, name in enumerate(self.class_names))\n",
        "\n",
        "  def get_files_and_class_names(self):\n",
        "    video_paths = list(self.path.glob('*/*.avi'))\n",
        "    classes = [p.parent.name for p in video_paths]\n",
        "    return video_paths, classes\n",
        "\n",
        "  def __call__(self):\n",
        "    video_paths, classes = self.get_files_and_class_names()\n",
        "\n",
        "    pairs = list(zip(video_paths, classes))\n",
        "\n",
        "    if self.training:\n",
        "      random.shuffle(pairs)\n",
        "\n",
        "    for path, name in pairs:\n",
        "      video_frames = frames_from_video_file(path, self.n_frames)\n",
        "      label = self.class_ids_for_name[name] # Encode labels\n",
        "      yield video_frames, label"
      ]
    },
    {
      "cell_type": "markdown",
      "metadata": {
        "id": "xsvhPIkpzx-r"
      },
      "source": [
        "We test out the `FrameGenerator` object before wrapping it as a TensorFlow Dataset object. Moreover, for the training dataset, ensure you enable training mode so that the data will be shuffled."
      ]
    },
    {
      "cell_type": "code",
      "execution_count": 25,
      "metadata": {
        "colab": {
          "base_uri": "https://localhost:8080/"
        },
        "id": "P5jwagZxzxOf",
        "outputId": "9a32a36c-c3ae-4745-91c9-236799841fac"
      },
      "outputs": [
        {
          "name": "stdout",
          "output_type": "stream",
          "text": [
            "Shape: (10, 224, 224, 3)\n",
            "Label: 7\n"
          ]
        }
      ],
      "source": [
        "fg = FrameGenerator(subset_paths['train'], 10, training=True)\n",
        "\n",
        "frames, label = next(fg())\n",
        "\n",
        "print(f\"Shape: {frames.shape}\")\n",
        "print(f\"Label: {label}\")"
      ]
    },
    {
      "cell_type": "markdown",
      "metadata": {
        "id": "E7MRRFSks7l1"
      },
      "source": [
        "Finally, we create a TensorFlow data input pipeline. This pipeline that you create from the generator object allows you to feed in data to your deep learning model. In this video pipeline, each element is a single set of frames and its associated label."
      ]
    },
    {
      "cell_type": "code",
      "execution_count": 26,
      "metadata": {
        "id": "HM4NboJr7ck4"
      },
      "outputs": [],
      "source": [
        "# Create the training set\n",
        "output_signature = (tf.TensorSpec(shape = (None, None, None, 3), dtype = tf.float32),\n",
        "                    tf.TensorSpec(shape = (), dtype = tf.int16))\n",
        "train_ds = tf.data.Dataset.from_generator(FrameGenerator(subset_paths['train'], 10, training=True),\n",
        "                                          output_signature = output_signature)"
      ]
    },
    {
      "cell_type": "markdown",
      "metadata": {
        "id": "9oF_8m8IZvcY"
      },
      "source": [
        "Check to see that the labels are shuffled."
      ]
    },
    {
      "cell_type": "code",
      "execution_count": 27,
      "metadata": {
        "colab": {
          "base_uri": "https://localhost:8080/"
        },
        "id": "3XYVmsgiZsJD",
        "outputId": "da040f86-06ed-4e67-9d57-aa1f9d5b6dca"
      },
      "outputs": [
        {
          "name": "stdout",
          "output_type": "stream",
          "text": [
            "tf.Tensor(6, shape=(), dtype=int16)\n",
            "tf.Tensor(8, shape=(), dtype=int16)\n",
            "tf.Tensor(9, shape=(), dtype=int16)\n",
            "tf.Tensor(5, shape=(), dtype=int16)\n",
            "tf.Tensor(2, shape=(), dtype=int16)\n",
            "tf.Tensor(7, shape=(), dtype=int16)\n",
            "tf.Tensor(5, shape=(), dtype=int16)\n",
            "tf.Tensor(0, shape=(), dtype=int16)\n",
            "tf.Tensor(8, shape=(), dtype=int16)\n",
            "tf.Tensor(1, shape=(), dtype=int16)\n"
          ]
        }
      ],
      "source": [
        "for frames, labels in train_ds.take(10):\n",
        "  print(labels)"
      ]
    },
    {
      "cell_type": "code",
      "execution_count": 28,
      "metadata": {
        "id": "Pi8-WkOkEXw5"
      },
      "outputs": [],
      "source": [
        "# Create the validation set\n",
        "val_ds = tf.data.Dataset.from_generator(FrameGenerator(subset_paths['val'], 10),\n",
        "                                        output_signature = output_signature)"
      ]
    },
    {
      "cell_type": "code",
      "execution_count": 29,
      "metadata": {
        "id": "__iswZcA8iHM"
      },
      "outputs": [],
      "source": [
        "# Create the test set\n",
        "test_ds = tf.data.Dataset.from_generator(FrameGenerator(subset_paths['test'], 10),\n",
        "                                        output_signature = output_signature)"
      ]
    },
    {
      "cell_type": "code",
      "execution_count": 30,
      "metadata": {
        "colab": {
          "base_uri": "https://localhost:8080/"
        },
        "id": "V6qXc-6i7eyK",
        "outputId": "e2270391-f399-426d-dd07-b35f41c300fe"
      },
      "outputs": [
        {
          "name": "stdout",
          "output_type": "stream",
          "text": [
            "Shape of training set of frames: (10, 224, 224, 3)\n",
            "Shape of training labels: ()\n",
            "Shape of validation set of frames: (10, 224, 224, 3)\n",
            "Shape of validation labels: ()\n",
            "Shape of test set of frames: (10, 224, 224, 3)\n",
            "Shape of test labels: ()\n"
          ]
        }
      ],
      "source": [
        "# Print the shapes of the data\n",
        "train_frames, train_labels = next(iter(train_ds))\n",
        "print(f'Shape of training set of frames: {train_frames.shape}')\n",
        "print(f'Shape of training labels: {train_labels.shape}')\n",
        "\n",
        "val_frames, val_labels = next(iter(val_ds))\n",
        "print(f'Shape of validation set of frames: {val_frames.shape}')\n",
        "print(f'Shape of validation labels: {val_labels.shape}')\n",
        "\n",
        "test_frames, test_labels = next(iter(test_ds))\n",
        "print(f'Shape of test set of frames: {test_frames.shape}')\n",
        "print(f'Shape of test labels: {test_labels.shape}')"
      ]
    },
    {
      "cell_type": "markdown",
      "metadata": {
        "id": "bIrFpUIxvTLe"
      },
      "source": [
        "## Configure the dataset for performance\n",
        "\n",
        "We use buffered prefetching such that you can yield data from the disk without having I/O become blocking. Two important functions to use while loading data are:\n",
        "\n",
        "* `Dataset.cache`: keeps the sets of frames in memory after they're loaded off the disk during the first epoch. This function ensures that the dataset does not become a bottleneck while training your model. If your dataset is too large to fit into memory, you can also use this method to create a performant on-disk cache.\n",
        "\n",
        "* `Dataset.prefetch`: overlaps data preprocessing and model execution while training.\n",
        "Refer to [Better performance with the `tf.data`](https://www.tensorflow.org/guide/data_performance) for details."
      ]
    },
    {
      "cell_type": "code",
      "execution_count": 31,
      "metadata": {
        "id": "QSxjFtxAvY3_"
      },
      "outputs": [],
      "source": [
        "AUTOTUNE = tf.data.AUTOTUNE\n",
        "\n",
        "train_ds = train_ds.cache().shuffle(1000).prefetch(buffer_size = AUTOTUNE)\n",
        "val_ds = val_ds.cache().shuffle(1000).prefetch(buffer_size = AUTOTUNE)"
      ]
    },
    {
      "cell_type": "markdown",
      "metadata": {
        "id": "VaY-hyr-Fbfr"
      },
      "source": [
        "To prepare the data to be fed into the model, use batching as shown below. Notice that when working with video data, such as AVI files, the data should be shaped as a five dimensional object. These dimensions are as follows: `[batch_size, number_of_frames, height, width, channels]`. In comparison, an image would have four dimensions: `[batch_size, height, width, channels]`. The image below is an illustration of how the shape of video data is represented.\n",
        "\n",
        "![Video data shape](https://www.tensorflow.org/images/tutorials/video/video_data_shape.png)\n"
      ]
    },
    {
      "cell_type": "code",
      "execution_count": 32,
      "metadata": {
        "colab": {
          "base_uri": "https://localhost:8080/"
        },
        "id": "pp2Qc6XSFmeB",
        "outputId": "7824bae8-f42d-4b82-edd2-117c913a68c7"
      },
      "outputs": [
        {
          "name": "stdout",
          "output_type": "stream",
          "text": [
            "Shape of training set of frames: (2, 10, 224, 224, 3)\n",
            "Shape of training labels: (2,)\n",
            "Shape of validation set of frames: (2, 10, 224, 224, 3)\n",
            "Shape of validation labels: (2,)\n",
            "Shape of test set of frames: (2, 10, 224, 224, 3)\n",
            "Shape of test labels: (2,)\n"
          ]
        }
      ],
      "source": [
        "train_ds = train_ds.batch(2)\n",
        "val_ds = val_ds.batch(2)\n",
        "test_ds = test_ds.batch(2)\n",
        "\n",
        "train_frames, train_labels = next(iter(train_ds))\n",
        "print(f'Shape of training set of frames: {train_frames.shape}')\n",
        "print(f'Shape of training labels: {train_labels.shape}')\n",
        "\n",
        "val_frames, val_labels = next(iter(val_ds))\n",
        "print(f'Shape of validation set of frames: {val_frames.shape}')\n",
        "print(f'Shape of validation labels: {val_labels.shape}')\n",
        "\n",
        "test_frames, test_labels = next(iter(test_ds))\n",
        "print(f'Shape of test set of frames: {test_frames.shape}')\n",
        "print(f'Shape of test labels: {test_labels.shape}')"
      ]
    },
    {
      "cell_type": "markdown",
      "metadata": {
        "id": "hqjXn1FgsMqZ"
      },
      "source": [
        "## Model Training\n",
        "\n",
        "Now that we have created a TensorFlow `Dataset` of video frames with their labels, we can use it with a deep learning model. The following classification model that uses a pre-trained CNN model (ResNet) and train it to high accuracy."
      ]
    },
    {
      "cell_type": "markdown",
      "metadata": {
        "id": "PIWtrrfJ5FHX"
      },
      "source": [
        "Other base models can be found in TensorFlow Hub (Kaggle Models) or under `tf.keras.applications` module:\n",
        "- [Kaggle Models](https://www.kaggle.com/models)\n",
        "- [`tf.keras.applications`](https://www.tensorflow.org/api_docs/python/tf/keras/applications/)"
      ]
    },
    {
      "cell_type": "code",
      "execution_count": 33,
      "metadata": {
        "colab": {
          "base_uri": "https://localhost:8080/"
        },
        "id": "qzqgPBUuForj",
        "outputId": "4ece01a6-eea1-4314-fa28-d36bf1415ab4"
      },
      "outputs": [
        {
          "name": "stdout",
          "output_type": "stream",
          "text": [
            "Downloading data from https://storage.googleapis.com/tensorflow/keras-applications/resnet/resnet50_weights_tf_dim_ordering_tf_kernels_notop.h5\n",
            "94765736/94765736 [==============================] - 0s 0us/step\n",
            "Epoch 1/10\n",
            "150/150 [==============================] - 27s 119ms/step - loss: 1.0267 - accuracy: 0.6900 - val_loss: 0.4237 - val_accuracy: 0.8400\n",
            "Epoch 2/10\n",
            "150/150 [==============================] - 15s 98ms/step - loss: 0.1845 - accuracy: 0.9633 - val_loss: 0.2023 - val_accuracy: 0.9800\n",
            "Epoch 3/10\n",
            "150/150 [==============================] - 15s 101ms/step - loss: 0.0652 - accuracy: 0.9967 - val_loss: 0.1580 - val_accuracy: 0.9700\n",
            "Epoch 4/10\n",
            "150/150 [==============================] - 15s 101ms/step - loss: 0.0340 - accuracy: 1.0000 - val_loss: 0.1516 - val_accuracy: 0.9800\n",
            "Epoch 5/10\n",
            "150/150 [==============================] - 15s 102ms/step - loss: 0.0265 - accuracy: 1.0000 - val_loss: 0.1254 - val_accuracy: 0.9800\n",
            "Epoch 6/10\n",
            "150/150 [==============================] - 15s 102ms/step - loss: 0.0172 - accuracy: 1.0000 - val_loss: 0.1165 - val_accuracy: 0.9700\n",
            "Epoch 7/10\n",
            "150/150 [==============================] - 15s 102ms/step - loss: 0.0129 - accuracy: 1.0000 - val_loss: 0.1113 - val_accuracy: 0.9800\n",
            "Epoch 8/10\n",
            "150/150 [==============================] - 15s 102ms/step - loss: 0.0105 - accuracy: 1.0000 - val_loss: 0.1028 - val_accuracy: 0.9800\n",
            "Epoch 9/10\n",
            "150/150 [==============================] - 15s 102ms/step - loss: 0.0091 - accuracy: 1.0000 - val_loss: 0.1021 - val_accuracy: 0.9800\n",
            "Epoch 10/10\n",
            "150/150 [==============================] - 15s 102ms/step - loss: 0.0073 - accuracy: 1.0000 - val_loss: 0.0963 - val_accuracy: 0.9800\n"
          ]
        }
      ],
      "source": [
        "# We will use ResNet model without its dense layer. We will train the dense layer ourselves.\n",
        "net = tf.keras.applications.ResNet50(include_top = False)\n",
        "net.trainable = False\n",
        "\n",
        "# Create model object\n",
        "model = tf.keras.Sequential([\n",
        "    tf.keras.layers.Rescaling(scale=255),     # Rescale RGB values to the range [0, 1]\n",
        "    tf.keras.layers.TimeDistributed(net),     # Apply the specified neural network (net) to each time step independentl\n",
        "    tf.keras.layers.Dense(10),                # We have 10 classes, def activation func is linear. to specify -> tf.keras.layers.Dense(10, activation='relu')\n",
        "    tf.keras.layers.GlobalAveragePooling3D()  # Downsampling before final classification layer\n",
        "])\n",
        "\n",
        "#  Configure the model for training. Defines the optimizer, loss function, and evaluation metric(s)\n",
        "model.compile(optimizer = 'adam',       #  Update the model's weights based on the gradients of the loss function with respect to the weights\n",
        "              loss=tf.keras.losses.SparseCategoricalCrossentropy(from_logits = True),   # loss function\n",
        "              metrics=['accuracy'])     # Metric to monitor model's performance during training\n",
        "\n",
        "# Start the training process\n",
        "history = model.fit(train_ds,\n",
        "          epochs = 10,\n",
        "          validation_data = val_ds,\n",
        "          callbacks = tf.keras.callbacks.EarlyStopping(patience = 2, monitor = 'val_loss'))"
      ]
    },
    {
      "cell_type": "markdown",
      "metadata": {},
      "source": [
        "### Model save & load (optional)"
      ]
    },
    {
      "cell_type": "code",
      "execution_count": null,
      "metadata": {},
      "outputs": [],
      "source": [
        "# # Mount google drive\n",
        "# from google.colab import drive\n",
        "# drive.mount('/content/drive')\n",
        "\n",
        "# # Save the model to Google Drive\n",
        "# model.save(\"/content/drive/MyDrive/Colab Notebooks/trained_models/ucf101_resnet_model.keras\")\n",
        "\n",
        "# # Load model from google drive\n",
        "# model = tf.keras.models.load_model('/content/drive/MyDrive/Colab Notebooks/trained_models/ucf101_resnet_model.keras')"
      ]
    },
    {
      "cell_type": "code",
      "execution_count": 34,
      "metadata": {
        "colab": {
          "base_uri": "https://localhost:8080/",
          "height": 927
        },
        "id": "AmRuU-fw-mXh",
        "outputId": "4c67b4f0-bef8-47eb-c2db-3b0712811a75"
      },
      "outputs": [
        {
          "data": {
            "image/png": "[encoded data removed]",
            "text/plain": [
              "<Figure size 640x480 with 1 Axes>"
            ]
          },
          "metadata": {},
          "output_type": "display_data"
        },
        {
          "data": {
            "image/png": "[encoded data removed]",
            "text/plain": [
              "<Figure size 640x480 with 1 Axes>"
            ]
          },
          "metadata": {},
          "output_type": "display_data"
        }
      ],
      "source": [
        "### Plot accuracy & loss vs. iteration\n",
        "# Plot training & validation loss values\n",
        "import matplotlib.pyplot as plt\n",
        "plt.plot(history.history['loss'])\n",
        "plt.plot(history.history['val_loss'])\n",
        "plt.title('Model loss')\n",
        "plt.xlabel('Epoch')\n",
        "plt.ylabel('Loss')\n",
        "plt.legend(['Train', 'Validation'], loc='upper right')\n",
        "plt.show()\n",
        "\n",
        "# Plot training & validation accuracy values\n",
        "plt.plot(history.history['accuracy'])\n",
        "plt.plot(history.history['val_accuracy'])\n",
        "plt.title('Model accuracy')\n",
        "plt.xlabel('Epoch')\n",
        "plt.ylabel('Accuracy')\n",
        "plt.legend(['Train', 'Validation'], loc='lower right')\n",
        "plt.show()"
      ]
    },
    {
      "cell_type": "code",
      "execution_count": 35,
      "metadata": {
        "colab": {
          "base_uri": "https://localhost:8080/"
        },
        "id": "8YWrUGS_Rnbz",
        "outputId": "74e8f241-3831-4028-8e2d-3579ca34453e"
      },
      "outputs": [
        {
          "name": "stdout",
          "output_type": "stream",
          "text": [
            "50/50 [==============================] - 18s 305ms/step\n",
            "Confusion Matrix:\n",
            "[[ 9  0  0  0  0  1  0  0  0  0]\n",
            " [ 1  9  0  0  0  0  0  0  0  0]\n",
            " [ 0  0 10  0  0  0  0  0  0  0]\n",
            " [ 0  0  0 10  0  0  0  0  0  0]\n",
            " [ 0  0  0  0 10  0  0  0  0  0]\n",
            " [ 0  0  0  0  0 10  0  0  0  0]\n",
            " [ 0  0  0  0  0  0  9  1  0  0]\n",
            " [ 0  0  0  0  0  1  0  9  0  0]\n",
            " [ 0  0  0  0  0  0  0  0 10  0]\n",
            " [ 0  0  0  0  0  0  0  0  0 10]]\n",
            "\n",
            "Classification Report:\n",
            "              precision    recall  f1-score   support\n",
            "\n",
            "           0       0.90      0.90      0.90        10\n",
            "           1       1.00      0.90      0.95        10\n",
            "           2       1.00      1.00      1.00        10\n",
            "           3       1.00      1.00      1.00        10\n",
            "           4       1.00      1.00      1.00        10\n",
            "           5       0.83      1.00      0.91        10\n",
            "           6       1.00      0.90      0.95        10\n",
            "           7       0.90      0.90      0.90        10\n",
            "           8       1.00      1.00      1.00        10\n",
            "           9       1.00      1.00      1.00        10\n",
            "\n",
            "    accuracy                           0.96       100\n",
            "   macro avg       0.96      0.96      0.96       100\n",
            "weighted avg       0.96      0.96      0.96       100\n",
            "\n"
          ]
        }
      ],
      "source": [
        "### Calculate confusion matrix report using test dataset\n",
        "from sklearn.metrics import confusion_matrix, classification_report\n",
        "# Step 1: Generate predictions\n",
        "predictions = model.predict(test_ds)\n",
        "\n",
        "# Step 2: Convert predicted probabilities to class labels\n",
        "predicted_labels = np.argmax(predictions, axis=1)\n",
        "\n",
        "# Step 3: Get true labels from the test dataset\n",
        "true_labels = np.concatenate([label.numpy() for _, label in test_ds])\n",
        "\n",
        "# Create confusion matrix\n",
        "conf_matrix = confusion_matrix(true_labels, predicted_labels)\n",
        "\n",
        "# Print confusion matrix\n",
        "print(\"Confusion Matrix:\")\n",
        "print(conf_matrix)\n",
        "\n",
        "# You can also print a classification report for more detailed metrics\n",
        "print(\"\\nClassification Report:\")\n",
        "print(classification_report(true_labels, predicted_labels))\n"
      ]
    },
    {
      "cell_type": "code",
      "execution_count": 35,
      "metadata": {
        "id": "VASKiWHHTwRT"
      },
      "outputs": [],
      "source": []
    }
  ],
  "metadata": {
    "accelerator": "GPU",
    "colab": {
      "provenance": []
    },
    "kernelspec": {
      "display_name": "Python 3",
      "name": "python3"
    }
  },
  "nbformat": 4,
  "nbformat_minor": 0
}
